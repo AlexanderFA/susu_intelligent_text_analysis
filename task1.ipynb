{
 "nbformat": 4,
 "nbformat_minor": 0,
 "metadata": {
  "colab": {
   "provenance": []
  },
  "kernelspec": {
   "name": "python3",
   "display_name": "Python 3"
  },
  "language_info": {
   "name": "python"
  }
 },
 "cells": [
  {
   "cell_type": "markdown",
   "source": [
    "### 1 Parse automobile numbers"
   ],
   "metadata": {
    "id": "-1p5BlXEkOyY",
    "pycharm": {
     "name": "#%% md\n"
    }
   }
  },
  {
   "cell_type": "code",
   "source": [
    "import re\n",
    "\n",
    "test_string = \"РТУ220О KE800К П227НА С227НА Е199КБ Е512KM О503ДП Р59ОТС A771BE Х281ОН 112МНО Т51РУ Е390МВ М9000РТ М900РТУ В5РСХИ\"\n",
    "regexp = r\"\\b[АВЕКМНОРСТУХ]{1}\\d{3}[АВЕКМНОРСТУХ]{2}\\b\"\n",
    "matches = re.findall(regexp, test_string)\n",
    "assert re.findall(regexp, test_string) == ['С227НА', 'Х281ОН', 'Е390МВ']\n",
    "print(\"Тест пройден\")"
   ],
   "metadata": {
    "id": "uMXh5pV0kacc",
    "colab": {
     "base_uri": "https://localhost:8080/"
    },
    "outputId": "3d217769-ca4e-4d74-ecf0-827c032b0878",
    "pycharm": {
     "name": "#%%\n"
    }
   },
   "execution_count": 19,
   "outputs": [
    {
     "output_type": "stream",
     "name": "stdout",
     "text": [
      "Тест пройден\n"
     ]
    }
   ]
  },
  {
   "cell_type": "markdown",
   "source": [
    "### 2 strip tags and remove linebreaks"
   ],
   "metadata": {
    "id": "CMx2ulWTtJ3i",
    "pycharm": {
     "name": "#%% md\n"
    }
   }
  },
  {
   "cell_type": "code",
   "source": [
    "! wget -q https://www.dropbox.com/s/dqp8yjmtu23fblj/moviescripts.html\n",
    "with open('./moviescripts.html', 'r', encoding='utf-8') as f:\n",
    "  html_string = f.read()"
   ],
   "metadata": {
    "id": "nQmuSv_mtH5F",
    "pycharm": {
     "name": "#%%\n"
    }
   },
   "execution_count": 47,
   "outputs": []
  },
  {
   "cell_type": "code",
   "source": [
    "import requests\n",
    "\n",
    "def clean_func(html_string):\n",
    "  clean_text = re.sub('<[^<]+?>', '', html_string)\n",
    "  clean_text = re.sub(r'\\n', '', clean_text)\n",
    "  # raise NotImplementedError\n",
    "  \n",
    "  return clean_text.strip()\n",
    "\n",
    "result = clean_func(html_string)"
   ],
   "metadata": {
    "id": "Yh1q2ltxtlKu",
    "pycharm": {
     "name": "#%%\n"
    }
   },
   "execution_count": 48,
   "outputs": []
  },
  {
   "cell_type": "code",
   "source": [
    "assert '\\n' not in result\n",
    "assert result[700:800] == 'мые прекрасные, остаются только идеями и сами по себе ценятся недорого. Иное дело — идеи, разработан'\n",
    "assert result[-100:] == 'ты должны научиться спокойно расставаться со своими детищами и переключаться на настоящее и будущее.'\n",
    "print(\"Тесты пройдены\")"
   ],
   "metadata": {
    "colab": {
     "base_uri": "https://localhost:8080/"
    },
    "id": "J0u_NLJDtsqK",
    "outputId": "dddd8e36-915d-4503-e865-640dea6acf9f",
    "pycharm": {
     "name": "#%%\n"
    }
   },
   "execution_count": 49,
   "outputs": [
    {
     "output_type": "stream",
     "name": "stdout",
     "text": [
      "Тесты пройдены\n"
     ]
    }
   ]
  },
  {
   "cell_type": "markdown",
   "source": [
    "### 3 Using a single expression with re.sub to assemble a set of tokens into a sentence"
   ],
   "metadata": {
    "id": "PCkJdyoVzb8u",
    "pycharm": {
     "name": "#%% md\n"
    }
   }
  },
  {
   "cell_type": "code",
   "source": [
    "import re\n",
    "\n",
    "make_sentence = lambda c: re.sub(r'\\s+([^\\w\\s])\\s*', r'\\1 ', ' '.join(c)).strip()"
   ],
   "metadata": {
    "id": "nA_-XKY-zj16",
    "pycharm": {
     "name": "#%%\n"
    }
   },
   "execution_count": 50,
   "outputs": []
  },
  {
   "cell_type": "code",
   "source": [
    "# Тестирование\n",
    "assert make_sentence([\"Привет\", \",\", \"как\", \"дела\", \"?\"]) == 'Привет, как дела?', 'Проверьте регулярное выражение'\n",
    "\n",
    "text = \"Впервые передо мной забрезжил свет потенциальной осмысленности регэкспов: http://docs.python.org/dev/howto/regex.html понятно и доходчиво объясняет их функцию в роли трафарета, — использование групп для выделения конкретных участков текста.\"\n",
    "tokens = ['Впервые', 'передо', 'мной', 'забрезжил', 'свет', 'потенциальной', 'осмысленности', 'регэкспов', ':', 'http://docs.python.org/dev/howto/regex.html', 'понятно', 'и', 'доходчиво', 'объясняет', 'их', 'функцию', 'в', 'роли', 'трафарета', ',', '—', 'использование', 'групп', 'для', 'выделения', 'конкретных', 'участков', 'текста', '.']\n",
    "\n",
    "# make_sentence(tokens)\n",
    "assert make_sentence(tokens) == text\n",
    "print(\"Тесты пройдены\")"
   ],
   "metadata": {
    "colab": {
     "base_uri": "https://localhost:8080/"
    },
    "id": "PYN2IWpK1iuG",
    "outputId": "fe075cf5-affb-47b0-9504-143d80b1120c",
    "pycharm": {
     "name": "#%%\n"
    }
   },
   "execution_count": 51,
   "outputs": [
    {
     "output_type": "stream",
     "name": "stdout",
     "text": [
      "Тесты пройдены\n"
     ]
    }
   ]
  },
  {
   "cell_type": "code",
   "source": [],
   "metadata": {
    "id": "hq0ePvU-5A01",
    "pycharm": {
     "name": "#%%\n"
    }
   },
   "execution_count": null,
   "outputs": []
  }
 ]
}