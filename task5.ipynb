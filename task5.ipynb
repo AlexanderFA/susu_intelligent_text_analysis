{
 "cells": [
  {
   "cell_type": "markdown",
   "metadata": {
    "id": "-1p5BlXEkOyY",
    "pycharm": {
     "name": "#%% md\n"
    }
   },
   "source": [
    "# Syntactic analysis"
   ]
  },
  {
   "cell_type": "markdown",
   "source": [
    "## 1. Explain the meaning of the three UD tags of syntactic relations using a fragment of a marked-up corpus as an example"
   ],
   "metadata": {
    "id": "B8pRfInpLokG",
    "pycharm": {
     "name": "#%% md\n"
    }
   }
  },
  {
   "cell_type": "code",
   "source": [
    "! wget -q https://www.dropbox.com/s/am6nasx6bx82nhp/RuEval2017-Lenta-news-dev.conllu"
   ],
   "metadata": {
    "id": "j0R4An8_LRU-",
    "pycharm": {
     "name": "#%%\n"
    }
   },
   "execution_count": 1,
   "outputs": []
  },
  {
   "cell_type": "code",
   "execution_count": 3,
   "metadata": {
    "id": "uMXh5pV0kacc",
    "colab": {
     "base_uri": "https://localhost:8080/"
    },
    "outputId": "984b845d-751c-40aa-bf03-d2f14699231a",
    "pycharm": {
     "name": "#%%\n"
    }
   },
   "outputs": [
    {
     "output_type": "stream",
     "name": "stdout",
     "text": [
      "21\tв\tв\tADP\t_\t_\t23\tcase\t_\t_\n",
      "22\t1969\t1969\tADJ\t_\tNumForm=Digit\t23\tamod\t_\t_\n",
      "23\tгоду\tгод\tNOUN\t_\tAnimacy=Inan|Case=Loc|Gender=Masc|Number=Sing\t20\tobl\t_\t_\n",
      "24\tза\tза\tADP\t_\t_\t25\tcase\t_\t_\n",
      "25\tзадержание\tзадержание\tNOUN\t_\tAnimacy=Inan|Case=Acc|Gender=Neut|Number=Sing\t20\tobl\t_\t_\n",
      "26\tособо\tособо\tADV\t_\tDegree=Pos\t27\tadvmod\t_\t_\n",
      "27\tопасного\tопасный\tADJ\t_\tCase=Gen|Degree=Pos|Gender=Masc|Number=Sing\t28\tamod\t_\t_\n",
      "28\tпреступника\tпреступник\tNOUN\t_\tAnimacy=Anim|Case=Gen|Gender=Masc|Number=Sing\t25\tnmod\t_\t_\n",
      "29\t.\t.\tPUNCT\t_\t_\t9\tpunct\t_\t_\n",
      "\n"
     ]
    }
   ],
   "source": [
    "! head -497 RuEval2017-Lenta-news-dev.conllu | tail -10"
   ]
  },
  {
   "cell_type": "code",
   "source": [
    "corpus_file = 'RuEval2017-Lenta-news-dev.conllu'"
   ],
   "metadata": {
    "id": "c0_3G-yHqk4U",
    "pycharm": {
     "name": "#%%\n"
    }
   },
   "execution_count": 10,
   "outputs": []
  },
  {
   "cell_type": "code",
   "source": [
    "! pip install -q natasha\n",
    "! pip install -q conllu"
   ],
   "metadata": {
    "colab": {
     "base_uri": "https://localhost:8080/"
    },
    "id": "nGRaqCd4qR0d",
    "outputId": "013867ae-0b63-4f34-be9c-6351ea00e10e",
    "pycharm": {
     "name": "#%%\n"
    }
   },
   "execution_count": 11,
   "outputs": [
    {
     "output_type": "stream",
     "name": "stdout",
     "text": [
      "\u001B[2K     \u001B[90m━━━━━━━━━━━━━━━━━━━━━━━━━━━━━━━━━━━━━━━━\u001B[0m \u001B[32m34.4/34.4 MB\u001B[0m \u001B[31m37.8 MB/s\u001B[0m eta \u001B[36m0:00:00\u001B[0m\n",
      "\u001B[2K     \u001B[90m━━━━━━━━━━━━━━━━━━━━━━━━━━━━━━━━━━━━━━━━\u001B[0m \u001B[32m46.7/46.7 kB\u001B[0m \u001B[31m4.7 MB/s\u001B[0m eta \u001B[36m0:00:00\u001B[0m\n",
      "\u001B[2K     \u001B[90m━━━━━━━━━━━━━━━━━━━━━━━━━━━━━━━━━━━━━━━━\u001B[0m \u001B[32m55.5/55.5 kB\u001B[0m \u001B[31m4.1 MB/s\u001B[0m eta \u001B[36m0:00:00\u001B[0m\n",
      "\u001B[?25h  Preparing metadata (setup.py) ... \u001B[?25l\u001B[?25hdone\n",
      "\u001B[2K     \u001B[90m━━━━━━━━━━━━━━━━━━━━━━━━━━━━━━━━━━━━━━━━\u001B[0m \u001B[32m8.2/8.2 MB\u001B[0m \u001B[31m68.0 MB/s\u001B[0m eta \u001B[36m0:00:00\u001B[0m\n",
      "\u001B[?25h  Preparing metadata (setup.py) ... \u001B[?25l\u001B[?25hdone\n",
      "  Building wheel for docopt (setup.py) ... \u001B[?25l\u001B[?25hdone\n",
      "  Building wheel for intervaltree (setup.py) ... \u001B[?25l\u001B[?25hdone\n"
     ]
    }
   ]
  },
  {
   "cell_type": "code",
   "source": [
    "from natasha.syntax import NewsSyntaxParser\n",
    "from natasha import (\n",
    "    Doc, \n",
    "    Segmenter,\n",
    "    NewsEmbedding,\n",
    "    # MorphVocab,\n",
    "    # NewsMorphTagger\n",
    ")\n",
    "from conllu import parse\n",
    "import string\n",
    "\n",
    "# Create instances of needed Natasha components\n",
    "segmenter = Segmenter()\n",
    "emb = NewsEmbedding()\n",
    "syntax_parser = NewsSyntaxParser(emb)\n",
    "# morph_vocab = MorphVocab()\n",
    "# morph_tagger = NewsMorphTagger(emb)\n",
    "\n",
    "# Download CoNLL-U\n",
    "with open(corpus_file, 'r', encoding='utf-8') as file:\n",
    "    conll_text = file.read()\n",
    "\n",
    "# Parse CoNLL-U text and create Doc object from tokens\n",
    "parsed_data = parse(conll_text)\n",
    "# tokens = [token['form'] for sentence in parsed_data for token in sentence if token['form'] not in string.punctuation]\n",
    "tokens = [token['form'] for sentence in parsed_data for token in sentence]\n",
    "print(tokens[5:8])\n",
    "doc = Doc(' '.join(tokens))\n",
    "# Tokenization\n",
    "doc.segment(segmenter)\n",
    "doc.parse_syntax(syntax_parser)\n",
    "doc.sents[0].syntax.print()\n",
    "# print(doc.tokens[5:8])\n",
    "# # Setting morphological tags for tokens\n",
    "# doc.tag_morph(morph_tagger)\n",
    "# # Getting tokens and morphological tags\n",
    "# for token in doc.tokens:\n",
    "#     print(\"Токен: \", token.text)\n",
    "#     print(\"Тег: \", token.pos)\n",
    "#     print(\"Тег морфологии: \", token.feats)\n",
    "#     print(\"--------------\")"
   ],
   "metadata": {
    "colab": {
     "base_uri": "https://localhost:8080/"
    },
    "id": "-WJRqgmrpDlk",
    "outputId": "a4b6dcb8-788f-41e3-e136-2bb973d8be9c",
    "pycharm": {
     "name": "#%%\n"
    }
   },
   "execution_count": 53,
   "outputs": [
    {
     "output_type": "stream",
     "name": "stdout",
     "text": [
      "['подробности', 'программы', ',']\n",
      "    ┌──► Официальные    amod\n",
      "    │ ┌► американские   amod\n",
      "    └─└─ власти         nsubj\n",
      "┌───└─┌─ отказываются   \n",
      "│ ┌─┌─└► комментировать xcomp\n",
      "│ │ └►┌─ подробности    obj\n",
      "│ │   └► программы      nmod\n",
      "│ │   ┌► ,              punct\n",
      "│ └──►└─ ссылаясь       advcl\n",
      "│ │ ┌──► на             case\n",
      "│ │ │ ┌► ее             det\n",
      "│ └►└─└─ секретность    obl\n",
      "└──────► .              punct\n"
     ]
    }
   ]
  },
  {
   "cell_type": "markdown",
   "source": [
    "## 2. Write a function for splitting a two-part compound sentence into simple ones"
   ],
   "metadata": {
    "id": "zvcA8YZW6CRk",
    "pycharm": {
     "name": "#%% md\n"
    }
   }
  },
  {
   "cell_type": "markdown",
   "source": [
    "### razdel"
   ],
   "metadata": {
    "id": "yORIRFRV9Beh",
    "pycharm": {
     "name": "#%% md\n"
    }
   }
  },
  {
   "cell_type": "code",
   "source": [
    "! pip install razdel"
   ],
   "metadata": {
    "colab": {
     "base_uri": "https://localhost:8080/"
    },
    "id": "GAU7ndLSaftb",
    "outputId": "5ba5ee1f-f23f-4bc1-895c-de9424937117",
    "pycharm": {
     "name": "#%%\n"
    }
   },
   "execution_count": 15,
   "outputs": [
    {
     "output_type": "stream",
     "name": "stdout",
     "text": [
      "Looking in indexes: https://pypi.org/simple, https://us-python.pkg.dev/colab-wheels/public/simple/\n",
      "Requirement already satisfied: razdel in /usr/local/lib/python3.9/dist-packages (0.5.0)\n"
     ]
    }
   ]
  },
  {
   "cell_type": "code",
   "source": [
    "text = '''\n",
    "- \"Так в чем же дело?\" - \"Не ра-ду-ют\".\n",
    "И т. д. и т. п. В общем, вся газета\n",
    "'''\n",
    "\n",
    "from razdel import sentenize\n",
    "print(list(sentenize(text)))\n",
    "# print(list(sentenize(doc.sents[0].text)))"
   ],
   "metadata": {
    "colab": {
     "base_uri": "https://localhost:8080/"
    },
    "id": "ahRljdi4w3xd",
    "outputId": "a7414191-1971-4319-b06a-8a6396f8ceff",
    "pycharm": {
     "name": "#%%\n"
    }
   },
   "execution_count": 27,
   "outputs": [
    {
     "output_type": "stream",
     "name": "stdout",
     "text": [
      "[Substring(1, 23, '- \"Так в чем же дело?\"'), Substring(24, 40, '- \"Не ра-ду-ют\".'), Substring(41, 56, 'И т. д. и т. п.'), Substring(57, 76, 'В общем, вся газета')]\n"
     ]
    }
   ]
  },
  {
   "cell_type": "code",
   "source": [
    "sent1 = doc.sents[0]\n",
    "sent2 = doc.sents[1]\n",
    "print(sent1.text)\n",
    "print(sent2.text)"
   ],
   "metadata": {
    "colab": {
     "base_uri": "https://localhost:8080/"
    },
    "id": "1AlOmZmAzlsJ",
    "outputId": "15ae79c3-00f4-41b7-f4cc-80feb308a2f4",
    "pycharm": {
     "name": "#%%\n"
    }
   },
   "execution_count": 58,
   "outputs": [
    {
     "output_type": "stream",
     "name": "stdout",
     "text": [
      "Официальные американские власти отказываются комментировать подробности программы , ссылаясь на ее секретность .\n",
      "Единственный сын одного из высокопоставленных северокорейских генералов бежал из страны вместе с семьей и сейчас находится в руках американской разведки .\n"
     ]
    }
   ]
  },
  {
   "cell_type": "markdown",
   "source": [
    "### spacy"
   ],
   "metadata": {
    "id": "dtliiGtK9EyA",
    "pycharm": {
     "name": "#%% md\n"
    }
   }
  },
  {
   "cell_type": "code",
   "source": [
    "! pip install -q spacy\n",
    "! python -m spacy download ru_core_news_sm --quiet"
   ],
   "metadata": {
    "colab": {
     "base_uri": "https://localhost:8080/"
    },
    "id": "NwT9coRAE9XP",
    "outputId": "c3d54a72-8ab7-435d-9567-46329f4365d2",
    "pycharm": {
     "name": "#%%\n"
    }
   },
   "execution_count": 32,
   "outputs": [
    {
     "output_type": "stream",
     "name": "stdout",
     "text": [
      "2023-04-19 00:02:29.129034: W tensorflow/compiler/tf2tensorrt/utils/py_utils.cc:38] TF-TRT Warning: Could not find TensorRT\n",
      "\u001B[38;5;2m✔ Download and installation successful\u001B[0m\n",
      "You can now load the package via spacy.load('ru_core_news_sm')\n"
     ]
    }
   ]
  },
  {
   "cell_type": "code",
   "source": [
    "import spacy\n",
    "\n",
    "nlp = spacy.load(\"ru_core_news_sm\")\n",
    "\n",
    "doc_spacy = nlp(sent1.text)\n",
    "\n",
    "simple_sentences = [sent.text for sent in doc_spacy.sents]\n",
    "\n",
    "for i, simple_sentence in enumerate(simple_sentences):\n",
    "    print(f\"Простое предложение {i + 1}: {simple_sentence}\")"
   ],
   "metadata": {
    "colab": {
     "base_uri": "https://localhost:8080/"
    },
    "id": "yzLNVrI80BFJ",
    "outputId": "cf6e360d-79db-4002-8c91-3cc149d9e664",
    "pycharm": {
     "name": "#%%\n"
    }
   },
   "execution_count": 60,
   "outputs": [
    {
     "output_type": "stream",
     "name": "stdout",
     "text": [
      "Простое предложение 1: Официальные американские власти отказываются комментировать подробности программы , ссылаясь на ее секретность .\n"
     ]
    }
   ]
  },
  {
   "cell_type": "markdown",
   "source": [
    "### custom"
   ],
   "metadata": {
    "id": "19HHy_pR9I3v",
    "pycharm": {
     "name": "#%% md\n"
    }
   }
  },
  {
   "cell_type": "code",
   "source": [
    "import string\n",
    "\n",
    "def split_complex_sentences(doc):\n",
    "    # Split complex sentences into simple clauses\n",
    "    j = 0\n",
    "    split_sentences = []\n",
    "    for sent in doc.sents:\n",
    "        clauses = []\n",
    "        conj_indices = [i for i, token in enumerate(sent.tokens) if token.rel == 'conj']\n",
    "        if conj_indices:\n",
    "            print(sent.text)\n",
    "            clause_start = 0\n",
    "            for conj_index in conj_indices:\n",
    "                clause_end = conj_index\n",
    "                clause = ' '.join(token.text for token in sent.tokens[clause_start:clause_end])\n",
    "                if clause:\n",
    "                    clauses.append(clause.strip())\n",
    "                clause_start = conj_index\n",
    "            last_clause = ' '.join(token.text for token in sent.tokens[conj_indices[-1]:])\n",
    "            if last_clause:\n",
    "                clauses.append(last_clause.strip())\n",
    "            split_sentences.extend(clauses)\n",
    "            for i, clause in enumerate(clauses):\n",
    "              print(r'Simple sentence {}: {}'.format(i + 1, clause))\n",
    "            j += 1\n",
    "            if j > 9:\n",
    "              break\n",
    "            print('')\n",
    "\n",
    "    return split_sentences"
   ],
   "metadata": {
    "id": "KZi6HPDe7sWQ",
    "pycharm": {
     "name": "#%%\n"
    }
   },
   "execution_count": 106,
   "outputs": []
  },
  {
   "cell_type": "code",
   "source": [
    "split_sentences = split_complex_sentences(doc)"
   ],
   "metadata": {
    "colab": {
     "base_uri": "https://localhost:8080/"
    },
    "id": "iMCDrdxm7zlE",
    "outputId": "b25ca2f1-987f-4f7b-cf02-b055d718fbb2",
    "pycharm": {
     "name": "#%%\n"
    }
   },
   "execution_count": 107,
   "outputs": [
    {
     "output_type": "stream",
     "name": "stdout",
     "text": [
      "Единственный сын одного из высокопоставленных северокорейских генералов бежал из страны вместе с семьей и сейчас находится в руках американской разведки .\n",
      "Simple sentence 1: Единственный сын одного из высокопоставленных северокорейских генералов бежал из страны вместе с семьей и сейчас\n",
      "Simple sentence 2: находится в руках американской разведки .\n",
      "\n",
      "Это решение уже трижды рассматривалось в судах — первая инстанция удовлетворила жалобу \" ЮКОСа \" , однако вторая и третья признали арест акций законным .\n",
      "Simple sentence 1: Это решение уже трижды рассматривалось в судах — первая инстанция удовлетворила жалобу \" ЮКОСа \" , однако вторая и\n",
      "Simple sentence 2: третья признали арест акций законным .\n",
      "\n",
      "Ранее один из преступников , представившийся \" Хасаном \" , заявил , что он \" русский и требует самолет в Россию \" .\n",
      "Simple sentence 1: Ранее один из преступников , представившийся \" Хасаном \" , заявил , что он \" русский и\n",
      "Simple sentence 2: требует самолет в Россию \" .\n",
      "\n",
      "Министр общественного порядка также уточнил , что всего в автобусе были 23 заложника и поблагодарил сотрудников правоохранительных органов за профессиональные действия , которые помогли избежать жертв .\n",
      "Simple sentence 1: Министр общественного порядка также уточнил , что всего в автобусе были 23 заложника и\n",
      "Simple sentence 2: поблагодарил сотрудников правоохранительных органов за профессиональные действия , которые помогли избежать жертв .\n",
      "\n",
      "Водителю и кондуктору удалось бежать во время захвата .\n",
      "Simple sentence 1: Водителю и\n",
      "Simple sentence 2: кондуктору удалось бежать во время захвата .\n",
      "\n",
      "Террористы , вооруженные пистолетом и ружьем , требовали предоставить им миллион евро и самолет , чтобы покинуть Грецию .\n",
      "Simple sentence 1: Террористы , вооруженные пистолетом и\n",
      "Simple sentence 2: ружьем , требовали предоставить им миллион евро и\n",
      "Simple sentence 3: самолет , чтобы покинуть Грецию .\n",
      "\n",
      "На протяжении дня террористы после переговоров с полицией и властями отпускали по нескольку заложников .\n",
      "Simple sentence 1: На протяжении дня террористы после переговоров с полицией и\n",
      "Simple sentence 2: властями отпускали по нескольку заложников .\n",
      "\n",
      "Дипломат уверил Танака , что российское правительство озабочено сложившейся ситуацией , но не хотело бы политизировать этот вопрос .\n",
      "Simple sentence 1: Дипломат уверил Танака , что российское правительство озабочено сложившейся ситуацией , но не\n",
      "Simple sentence 2: хотело бы политизировать этот вопрос .\n",
      "\n",
      "В настоящее время к промыслу морепродуктов у берегов спорных островов допущены некоторые южнокорейские и северокорейские рыболовецкие компании .\n",
      "Simple sentence 1: В настоящее время к промыслу морепродуктов у берегов спорных островов допущены некоторые южнокорейские и\n",
      "Simple sentence 2: северокорейские рыболовецкие компании .\n",
      "\n",
      "Тихонов сообщил , что уже шестой день находится в Австрии , в одной из лучших клиник мира по нейрохирургии и сердечно-сосудистым заболеваниям .\n",
      "Simple sentence 1: Тихонов сообщил , что уже шестой день находится в Австрии , в одной из лучших клиник мира по нейрохирургии и сердечно-сосудистым\n",
      "Simple sentence 2: заболеваниям .\n"
     ]
    }
   ]
  }
 ],
 "metadata": {
  "colab": {
   "provenance": []
  },
  "kernelspec": {
   "display_name": "Python 3",
   "name": "python3"
  },
  "language_info": {
   "name": "python"
  }
 },
 "nbformat": 4,
 "nbformat_minor": 0
}