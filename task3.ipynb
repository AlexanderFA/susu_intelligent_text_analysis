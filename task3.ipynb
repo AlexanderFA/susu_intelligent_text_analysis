{
 "cells": [
  {
   "cell_type": "markdown",
   "metadata": {
    "id": "-1p5BlXEkOyY",
    "pycharm": {
     "name": "#%% md\n"
    }
   },
   "source": [
    "# Typos correction"
   ]
  },
  {
   "cell_type": "code",
   "execution_count": 133,
   "metadata": {
    "id": "uMXh5pV0kacc",
    "pycharm": {
     "name": "#%%\n"
    }
   },
   "outputs": [],
   "source": [
    "examples = [\n",
    "    \"вот в инете откапал такую инеерсную статейку предлагаю вашему внимани\",\n",
    "    \"может и в правду лутше тебе молчать чем пытаться сказать\",\n",
    "    \"утром мы сидели как сычи а потом каааак начали работать\"\n",
    "]\n",
    "\n",
    "import time\n",
    "\n",
    "def correct_examples(corrector_func, library_name, iterations_cnt = 300, is_text_shown = False):\n",
    "    start_time = time.time()\n",
    "    for i in range(iterations_cnt):\n",
    "      if 'JamSpell' == library_name or 'YandexSpeller' == library_name:\n",
    "        for example in examples:\n",
    "          corrected = corrector_func(example)   \n",
    "          if is_text_shown:   \n",
    "            print(\"Corrected: \", corrected)  \n",
    "      else:\n",
    "        corrected = corrector_func(examples)\n",
    "        if is_text_shown:\n",
    "          print(\"Corrected:\")\n",
    "          for item in corrected:\n",
    "            print(item)\n",
    "\n",
    "    end_time = time.time() # Record the end time\n",
    "    elapsed_time = end_time - start_time # Calculate elapsed time\n",
    "    print(\"Elapsed time (seconds) for {} library work ({} loops): {}\".format(library_name, iterations_cnt, elapsed_time))"
   ]
  },
  {
   "cell_type": "markdown",
   "source": [
    "### 1. Measure the running time of three methods from libraries"
   ],
   "metadata": {
    "id": "rwN-KYu4qTzx",
    "pycharm": {
     "name": "#%% md\n"
    }
   }
  },
  {
   "cell_type": "markdown",
   "source": [
    "#### Jamspell"
   ],
   "metadata": {
    "id": "prU2-JNCrIyE",
    "pycharm": {
     "name": "#%% md\n"
    }
   }
  },
  {
   "cell_type": "code",
   "source": [
    "! apt install swig3.0\n",
    "! pip install jamspell"
   ],
   "metadata": {
    "colab": {
     "base_uri": "https://localhost:8080/"
    },
    "id": "jjJBLOAZsGRv",
    "outputId": "6507cc4a-c7b7-494e-814a-f229a3f80cea",
    "pycharm": {
     "name": "#%%\n"
    }
   },
   "execution_count": 1,
   "outputs": [
    {
     "output_type": "stream",
     "name": "stdout",
     "text": [
      "Reading package lists... Done\n",
      "Building dependency tree       \n",
      "Reading state information... Done\n",
      "swig3.0 is already the newest version (3.0.12-2.2ubuntu1).\n",
      "0 upgraded, 0 newly installed, 0 to remove and 25 not upgraded.\n",
      "Looking in indexes: https://pypi.org/simple, https://us-python.pkg.dev/colab-wheels/public/simple/\n",
      "Requirement already satisfied: jamspell in /usr/local/lib/python3.9/dist-packages (0.0.12)\n"
     ]
    }
   ]
  },
  {
   "cell_type": "code",
   "source": [
    "!wget -q https://github.com/bakwc/JamSpell-models/raw/master/ru.tar.gz && tar -xvf ru.tar.gz"
   ],
   "metadata": {
    "colab": {
     "base_uri": "https://localhost:8080/"
    },
    "id": "3oDenbM2wFb1",
    "outputId": "6d582f6a-73ca-4703-d819-a8c33fa42ff8",
    "pycharm": {
     "name": "#%%\n"
    }
   },
   "execution_count": 2,
   "outputs": [
    {
     "output_type": "stream",
     "name": "stdout",
     "text": [
      "ru_small.bin\n"
     ]
    }
   ]
  },
  {
   "cell_type": "code",
   "source": [
    "import jamspell\n",
    "\n",
    "corrector = jamspell.TSpellCorrector()\n",
    "corrector.LoadLangModel('ru_small.bin')"
   ],
   "metadata": {
    "colab": {
     "base_uri": "https://localhost:8080/"
    },
    "id": "qDT1NKCgqQxO",
    "outputId": "48dcb4a6-3de3-46bc-eb60-fa8d3df1e8cd",
    "pycharm": {
     "name": "#%%\n"
    }
   },
   "execution_count": 107,
   "outputs": [
    {
     "output_type": "execute_result",
     "data": {
      "text/plain": [
       "True"
      ]
     },
     "metadata": {},
     "execution_count": 107
    }
   ]
  },
  {
   "cell_type": "code",
   "execution_count": 134,
   "metadata": {
    "colab": {
     "base_uri": "https://localhost:8080/"
    },
    "id": "QSIhPzFg85ya",
    "outputId": "391f720a-ab04-4db1-9aa5-336505f332d2",
    "pycharm": {
     "name": "#%%\n"
    }
   },
   "outputs": [
    {
     "output_type": "stream",
     "name": "stdout",
     "text": [
      "Corrected:  вот в инете отказал такую интересную статейку предлагаю вашему вниманию\n",
      "Corrected:  может и в правду лучше тебе молчать чем пытаться сказать\n",
      "Corrected:  утром мы сидели как сычи а потом каааак начали работать\n",
      "Elapsed time (seconds) for JamSpell library work (1 loops): 0.018433570861816406\n",
      "Elapsed time (seconds) for JamSpell library work (300 loops): 2.9468600749969482\n"
     ]
    }
   ],
   "source": [
    "# Show jamspell work\n",
    "correct_examples(corrector.FixFragment, 'JamSpell', 1, True)\n",
    "# Show jamspell time efficiency\n",
    "correct_examples(corrector.FixFragment, 'JamSpell')"
   ]
  },
  {
   "cell_type": "markdown",
   "metadata": {
    "id": "CMx2ulWTtJ3i",
    "pycharm": {
     "name": "#%% md\n"
    }
   },
   "source": [
    "#### DeepPavlov"
   ]
  },
  {
   "cell_type": "code",
   "execution_count": 40,
   "metadata": {
    "colab": {
     "base_uri": "https://localhost:8080/"
    },
    "id": "nQmuSv_mtH5F",
    "outputId": "6b6586bc-57ab-4d1f-e1e1-7fe4a6ab70b7",
    "pycharm": {
     "name": "#%%\n"
    }
   },
   "outputs": [
    {
     "output_type": "stream",
     "name": "stdout",
     "text": [
      "  Installing build dependencies ... \u001B[?25l\u001B[?25hdone\n",
      "  Getting requirements to build wheel ... \u001B[?25l\u001B[?25hdone\n",
      "  Preparing metadata (pyproject.toml) ... \u001B[?25l\u001B[?25hdone\n",
      "  Building wheel for kenlm (pyproject.toml) ... \u001B[?25l\u001B[?25hdone\n"
     ]
    }
   ],
   "source": [
    "! pip install -q deeppavlov\n",
    "! pip install -q sacremoses\n",
    "! pip install -q https://github.com/kpu/kenlm/archive/master.zip"
   ]
  },
  {
   "cell_type": "code",
   "execution_count": 41,
   "metadata": {
    "id": "Yh1q2ltxtlKu",
    "pycharm": {
     "name": "#%%\n"
    }
   },
   "outputs": [],
   "source": [
    "from deeppavlov import configs, build_model"
   ]
  },
  {
   "cell_type": "code",
   "execution_count": 42,
   "metadata": {
    "colab": {
     "base_uri": "https://localhost:8080/"
    },
    "id": "AJPYJS-t9QBj",
    "outputId": "63eddd71-75ae-4934-bd1d-3e6504ae19f1",
    "pycharm": {
     "name": "#%%\n"
    }
   },
   "outputs": [
    {
     "output_type": "stream",
     "name": "stderr",
     "text": [
      "2023-04-13 23:11:54.574 INFO in 'deeppavlov.download'['download'] at line 138: Skipped http://files.deeppavlov.ai/lang_models/ru_wiyalen_no_punkt.arpa.binary.gz download because of matching hashes\n",
      "INFO:deeppavlov.download:Skipped http://files.deeppavlov.ai/lang_models/ru_wiyalen_no_punkt.arpa.binary.gz download because of matching hashes\n",
      "2023-04-13 23:11:55.429 INFO in 'deeppavlov.download'['download'] at line 138: Skipped http://files.deeppavlov.ai/deeppavlov_data/vocabs/russian_words_vocab.dict.gz download because of matching hashes\n",
      "INFO:deeppavlov.download:Skipped http://files.deeppavlov.ai/deeppavlov_data/vocabs/russian_words_vocab.dict.gz download because of matching hashes\n"
     ]
    }
   ],
   "source": [
    "# Download the model of typo fixing\n",
    "model = build_model(configs.spelling_correction.levenshtein_corrector_ru, download=True)"
   ]
  },
  {
   "cell_type": "code",
   "source": [
    "# Show DeepPavlov work\n",
    "correct_examples(model, 'DeepPavlov', 1, True)\n",
    "# Show DeepPavlov time efficiency\n",
    "correct_examples(model, 'DeepPavlov')"
   ],
   "metadata": {
    "colab": {
     "base_uri": "https://localhost:8080/"
    },
    "id": "qXsIuBcg4LNC",
    "outputId": "a22c9da1-79dd-4689-ccbe-2412549da52a",
    "pycharm": {
     "name": "#%%\n"
    }
   },
   "execution_count": 135,
   "outputs": [
    {
     "output_type": "stream",
     "name": "stdout",
     "text": [
      "Corrected:\n",
      "вот в инее отказал такую инверсную статейку предлагаю вашему вниманию\n",
      "может и в правду лучше тебе молчать чем пытаться сказать\n",
      "утром мы сидели как сычи а потом каааак начали работать\n",
      "Elapsed time (seconds) for DeepPavlov library work (1 loops): 0.19684505462646484\n",
      "Elapsed time (seconds) for DeepPavlov library work (300 loops): 35.72472333908081\n"
     ]
    }
   ]
  },
  {
   "cell_type": "markdown",
   "metadata": {
    "id": "wl50o8tvOIfm",
    "pycharm": {
     "name": "#%% md\n"
    }
   },
   "source": [
    "#### YandexSpeller"
   ]
  },
  {
   "cell_type": "code",
   "execution_count": 84,
   "metadata": {
    "id": "J0u_NLJDtsqK",
    "pycharm": {
     "name": "#%%\n"
    }
   },
   "outputs": [],
   "source": [
    "! pip install -q pyaspeller"
   ]
  },
  {
   "cell_type": "code",
   "execution_count": 120,
   "metadata": {
    "id": "PxJ-GeDAyHaf",
    "pycharm": {
     "name": "#%%\n"
    }
   },
   "outputs": [],
   "source": [
    "from pyaspeller import YandexSpeller\n",
    "speller = YandexSpeller()"
   ]
  },
  {
   "cell_type": "code",
   "execution_count": 137,
   "metadata": {
    "id": "mZH6X7xJyHxg",
    "colab": {
     "base_uri": "https://localhost:8080/"
    },
    "outputId": "b6eed726-646d-4795-a9d3-dbcf9284e17d",
    "pycharm": {
     "name": "#%%\n"
    }
   },
   "outputs": [
    {
     "output_type": "stream",
     "name": "stdout",
     "text": [
      "Corrected:  вот в инете откопал такую интересную статейку предлагаю вашему вниманию\n",
      "Corrected:  может и в правду лучше тебе молчать чем пытаться сказать\n",
      "Corrected:  утром мы сидели как сычи а потом каааак начали работать\n",
      "Elapsed time (seconds) for YandexSpeller library work (1 loops): 1.7286052703857422\n",
      "Elapsed time (seconds) for YandexSpeller library work (300 loops): 80.13619661331177\n"
     ]
    }
   ],
   "source": [
    "# Show YandexSpeller work\n",
    "correct_examples(speller.spelled, 'YandexSpeller', 1, True)\n",
    "# Show YandexSpeller time efficiency\n",
    "correct_examples(model, 'YandexSpeller')"
   ]
  },
  {
   "cell_type": "markdown",
   "source": [
    "## 2. Damerau-Levenshtein function"
   ],
   "metadata": {
    "id": "7W7_ikBOHgWm",
    "pycharm": {
     "name": "#%% md\n"
    }
   }
  },
  {
   "cell_type": "code",
   "source": [
    "! pip install -q python-Levenshtein"
   ],
   "metadata": {
    "id": "bBj8HYWMIRrQ",
    "pycharm": {
     "name": "#%%\n"
    }
   },
   "execution_count": 149,
   "outputs": []
  },
  {
   "cell_type": "code",
   "source": [
    "import Levenshtein\n",
    "\n",
    "fixed_examples = [\n",
    "    \"вот в инете откопал такую интересную статейку предлагаю вашему вниманию\",\n",
    "    \"может и в правду лучше тебе молчать чем пытаться сказать\",\n",
    "    \"утром мы сидели как сычи а потом как начали работать\",\n",
    "]\n",
    "\n",
    "start_time = time.time()\n",
    "for i in range(1000):\n",
    "  for j, example in enumerate(examples):\n",
    "    distance = Levenshtein.distance(examples[j], fixed_examples[j])\n",
    "\n",
    "end_time = time.time() # Record the end time\n",
    "elapsed_time = end_time - start_time # Calculate elapsed time\n",
    "print(\"Elapsed time (seconds) for Levenshtein.distance: {}\".format(elapsed_time))"
   ],
   "metadata": {
    "colab": {
     "base_uri": "https://localhost:8080/"
    },
    "id": "C3pmnSbeHsuT",
    "outputId": "e4c5e2d9-2615-4a3c-ab81-52dfa9620bd8",
    "pycharm": {
     "name": "#%%\n"
    }
   },
   "execution_count": 169,
   "outputs": [
    {
     "output_type": "stream",
     "name": "stdout",
     "text": [
      "Elapsed time (seconds) for Levenshtein.distance: 0.005997419357299805\n"
     ]
    }
   ]
  },
  {
   "cell_type": "markdown",
   "source": [
    "## 3. Typos due to key slips on the keyboard function"
   ],
   "metadata": {
    "id": "Mbv5YatsJdCb",
    "pycharm": {
     "name": "#%% md\n"
    }
   }
  },
  {
   "cell_type": "code",
   "source": [
    "import random\n",
    "\n",
    "def generate_typo(word):\n",
    "    keyboard = {\n",
    "        'q': ['w', 'a'],\n",
    "        'w': ['q', 'e', 'a', 's'],\n",
    "        'e': ['w', 'r', 's', 'd'],\n",
    "        'r': ['e', 't', 'd', 'f'],\n",
    "        't': ['r', 'y', 'f', 'g'],\n",
    "        'y': ['t', 'u', 'g', 'h'],\n",
    "        'u': ['y', 'i', 'h', 'j'],\n",
    "        'i': ['u', 'o', 'j', 'k'],\n",
    "        'o': ['i', 'p', 'k', 'l'],\n",
    "        'p': ['o', 'l'],\n",
    "        'a': ['q', 'w', 's', 'z'],\n",
    "        's': ['w', 'a', 'd', 'z', 'x'],\n",
    "        'd': ['e', 's', 'f', 'x', 'c'],\n",
    "        'f': ['r', 'd', 'g', 'c', 'v'],\n",
    "        'g': ['t', 'f', 'h', 'v', 'b'],\n",
    "        'h': ['y', 'g', 'j', 'b', 'n'],\n",
    "        'j': ['u', 'h', 'k', 'n', 'm'],\n",
    "        'k': ['i', 'j', 'l', 'm'],\n",
    "        'l': ['o', 'k', 'p'],\n",
    "        'z': ['a', 's', 'x'],\n",
    "        'x': ['s', 'd', 'z', 'c'],\n",
    "        'c': ['d', 'f', 'x', 'v'],\n",
    "        'v': ['f', 'g', 'c', 'b'],\n",
    "        'b': ['g', 'h', 'v', 'n'],\n",
    "        'n': ['h', 'j', 'b', 'm'],\n",
    "        'm': ['j', 'k', 'n']\n",
    "    }\n",
    "\n",
    "    word_list = list(word)\n",
    "    \n",
    "    # Pick random place of type among the letters\n",
    "    idx = random.randint(0, len(word) - 1)\n",
    "    \n",
    "    # Get a char from this position\n",
    "    char = word_list[idx]\n",
    "    \n",
    "    # We generate a typo by randomly replacing a character with a neighboring one on the keyboard\n",
    "    if char.lower() in keyboard:\n",
    "        typo_char = random.choice(keyboard[char.lower()])\n",
    "        word_list[idx] = typo_char\n",
    "    \n",
    "    return ''.join(word_list)\n",
    "\n",
    "word = \"hello\"\n",
    "typo_word = generate_typo(word)\n",
    "print(typo_word)"
   ],
   "metadata": {
    "colab": {
     "base_uri": "https://localhost:8080/"
    },
    "id": "np-GYE0UJ2Lr",
    "outputId": "ed8f4d06-a2d1-4454-d2d2-4840d855424f",
    "pycharm": {
     "name": "#%%\n"
    }
   },
   "execution_count": 165,
   "outputs": [
    {
     "output_type": "stream",
     "name": "stdout",
     "text": [
      "hwllo\n"
     ]
    }
   ]
  },
  {
   "cell_type": "markdown",
   "source": [
    "## 4. Comparing vectors composed of frequencies of letters in a word (CountVectorizer)"
   ],
   "metadata": {
    "id": "xX5_lQEtMZa5",
    "pycharm": {
     "name": "#%% md\n"
    }
   }
  },
  {
   "cell_type": "code",
   "source": [
    "from sklearn.feature_extraction.text import CountVectorizer\n",
    "from sklearn.metrics.pairwise import cosine_similarity\n",
    "\n",
    "def compare_word_vectors(word1, word2):\n",
    "    # Create CountVectorizer object\n",
    "    vectorizer = CountVectorizer(analyzer='char')\n",
    "    \n",
    "    # Combine the two words into a list\n",
    "    word_list = [word1, word2]\n",
    "    \n",
    "    # Fit and transform the word list to obtain word vectors\n",
    "    word_vectors = vectorizer.fit_transform(word_list)\n",
    "    \n",
    "    # Compute cosine similarity between the two word vectors\n",
    "    similarity = cosine_similarity(word_vectors[0], word_vectors[1])\n",
    "    \n",
    "    # Return cosine similarity score\n",
    "    return similarity[0][0]"
   ],
   "metadata": {
    "id": "xtnMfN0TLliM",
    "pycharm": {
     "name": "#%%\n"
    }
   },
   "execution_count": 166,
   "outputs": []
  },
  {
   "cell_type": "code",
   "source": [
    "start_time = time.time()\n",
    "for i in range(1000):\n",
    "  for j, example in enumerate(examples):\n",
    "    similarity_score = compare_word_vectors(examples[j], fixed_examples[j])\n",
    "\n",
    "end_time = time.time() # Record the end time\n",
    "elapsed_time = end_time - start_time # Calculate elapsed time\n",
    "print(\"Elapsed time (seconds) for compare_word_vectors: {}\".format(elapsed_time))\n",
    "\n",
    "print(\"Cosine similarity between '{}' and '{}': {}\".format(examples[j], fixed_examples[j], similarity_score))"
   ],
   "metadata": {
    "colab": {
     "base_uri": "https://localhost:8080/"
    },
    "id": "NUxB2lc4NEmx",
    "outputId": "fda9da37-b50e-40e3-d61a-d3d9eafef7f3",
    "pycharm": {
     "name": "#%%\n"
    }
   },
   "execution_count": 170,
   "outputs": [
    {
     "output_type": "stream",
     "name": "stdout",
     "text": [
      "Elapsed time (seconds) for compare_word_vectors: 8.592718362808228\n",
      "Cosine similarity between 'утром мы сидели как сычи а потом каааак начали работать' and 'утром мы сидели как сычи а потом как начали работать': 0.987317065004051\n"
     ]
    }
   ]
  }
 ],
 "metadata": {
  "colab": {
   "provenance": []
  },
  "kernelspec": {
   "display_name": "Python 3",
   "name": "python3"
  },
  "language_info": {
   "name": "python"
  }
 },
 "nbformat": 4,
 "nbformat_minor": 0
}