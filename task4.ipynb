{
  "cells": [
    {
      "cell_type": "markdown",
      "metadata": {
        "id": "-1p5BlXEkOyY"
      },
      "source": [
        "# Morphology"
      ]
    },
    {
      "cell_type": "markdown",
      "source": [
        "## 1. Disguise proper names in an email"
      ],
      "metadata": {
        "id": "B8pRfInpLokG"
      }
    },
    {
      "cell_type": "code",
      "source": [
        "email = \"\"\"\n",
        "Уважаемая Эльвира Геннадьевна,\n",
        "\n",
        "Как шеф-повар, я должен выразить свою обеспокоенность слухами о появлении плесени вблизи некоторых кухонь в корпусе 13 по адресу: Льва Толстого, 42. Обращаю ваше внимание на то, что любые продукты, обрабатываемые, приготавливаемые или потребляемые вблизи плесени, могут быть заражены и небезопасны для употребления.\n",
        "\n",
        "Если эти сообщения найдут подтверждения, мне придется закрыть несколько столовых. Возможно распределение нагрузки на кухни в корпусах:\n",
        "№9 площадь Гагарина, 99\n",
        "№10 улица Южная, 10\n",
        "\n",
        "С уважением,\n",
        "Алексей Мартынов.\n",
        "\"\"\""
      ],
      "metadata": {
        "id": "j0R4An8_LRU-"
      },
      "execution_count": 35,
      "outputs": []
    },
    {
      "cell_type": "code",
      "execution_count": 36,
      "metadata": {
        "id": "uMXh5pV0kacc"
      },
      "outputs": [],
      "source": [
        "! pip install -q pymystem3"
      ]
    },
    {
      "cell_type": "code",
      "source": [
        "from pymystem3 import Mystem\n",
        "\n",
        "mystem = Mystem()\n",
        "\n",
        "lines = email.split('\\n')\n",
        "\n",
        "def is_proper_name(word):\n",
        "    parsed_word = mystem.analyze(word)[0]\n",
        "    if 'analysis' in parsed_word and len(parsed_word['analysis']) > 0 and 'gr' in parsed_word['analysis'][0]:\n",
        "        gr = parsed_word['analysis'][0]['gr']\n",
        "        if 'имя' in gr or 'фам' in gr or 'отч' in gr or 'гео' in gr:\n",
        "            return True\n",
        "    return False\n",
        "\n",
        "last_word_was_proper_name = False\n",
        "\n",
        "for i in range(len(lines)):\n",
        "    words = lines[i].split()\n",
        "    for j in range(len(words)):\n",
        "        if is_proper_name(words[j]) or 'улица' in words[j - 1]:\n",
        "          if last_word_was_proper_name == False:\n",
        "            words[j] = '[ИМЯ]'\n",
        "          else:\n",
        "            words[j] = ''\n",
        "          last_word_was_proper_name = True\n",
        "        else:\n",
        "          last_word_was_proper_name = False\n",
        "    lines[i] = ' '.join(words)\n",
        "\n",
        "masked_email = '\\n'.join(lines)\n",
        "\n",
        "print(masked_email)"
      ],
      "metadata": {
        "colab": {
          "base_uri": "https://localhost:8080/"
        },
        "id": "Qyt4btViMk54",
        "outputId": "28947de3-16a6-4d64-bd75-6d315070af82"
      },
      "execution_count": 34,
      "outputs": [
        {
          "output_type": "stream",
          "name": "stdout",
          "text": [
            "\n",
            "Уважаемая [ИМЯ] \n",
            "\n",
            "Как шеф-повар, я должен выразить свою обеспокоенность слухами о появлении плесени вблизи некоторых кухонь в корпусе 13 по адресу: [ИМЯ]  42. Обращаю ваше внимание на то, что любые продукты, обрабатываемые, приготавливаемые или потребляемые вблизи плесени, могут быть заражены и небезопасны для употребления.\n",
            "\n",
            "Если эти сообщения найдут подтверждения, мне придется закрыть несколько столовых. Возможно распределение нагрузки на кухни в корпусах:\n",
            "№9 площадь [ИМЯ] 99\n",
            "№10 улица [ИМЯ] 10\n",
            "\n",
            "С уважением,\n",
            "[ИМЯ] \n",
            "\n"
          ]
        }
      ]
    },
    {
      "cell_type": "markdown",
      "source": [
        "## 2. Replace pymorphy selected object in the wikipedia article with another object (with a declination)"
      ],
      "metadata": {
        "id": "rwN-KYu4qTzx"
      }
    },
    {
      "cell_type": "code",
      "source": [
        "# Example of input data\n",
        "orig_wikitext = \"\"\"Стрекозы (лат. Odonáta) — отряд древних летающих насекомых, насчитывающий в мировой фауне свыше 6650 видов. Это относительно крупные насекомые, с подвижной головой, большими глазами, короткими щетинковидными усиками, удлинённым стройным брюшком и четырьмя прозрачными крыльями с густой сетью жилок. Стрекозы — активные специализированные хищники, которые питаются насекомыми, пойманными на лету. Представители отряда широко распространены по миру, встречаясь на всех материках, исключая Антарктиду.\n",
        "Все представители отряда ведут амфибионтный образ жизни — яйца и личинки развиваются в водной среде, а имаго (взрослые) обитают на суше, освоив воздушную среду и став прекрасными летунами. Взрослые стрекозы не ограничиваются в выборе места обитания одними только берегами водоёмов и могут улетать от них на значительные расстояния, встречаясь на лугах, опушках лесов и даже в населённых пунктах. Развитие с неполным превращением: имеются стадии яйца, личинки и имаго. Личинки (их называют также нимфами или наядами) развиваются в водоёмах различных типов — главным образом в стоячих озёрах, прудах и старицах рек, а также в ручьях, реках и болотистых водоёмах, вплоть до созданных человеком прудов и канав с водой. Как и взрослые стрекозы, личинки являются хищниками. Они охотятся на водных насекомых и прочих беспозвоночных.\n",
        "Стрекозы имеют большое значение для человека. Велика их роль в регуляции численности кровососущих насекомых, ряда насекомых-вредителей сельского и лесного хозяйства. В некоторых случаях личинки стрекоз могут приносить вред, например, уничтожая мальков в рыбоводных прудах либо составляя им пищевую конкуренцию. Кроме того, личинки некоторых видов могут являться промежуточными хозяевами гельминтов.\"\"\"\n",
        "\n",
        "# Example of output data\n",
        "result_wikitext = \"\"\"Годзиллы (лат. Odonáta) — отряд древних летающих насекомых, насчитывающий в мировой фауне свыше 6650 видов. Это относительно крупные насекомые, с подвижной головой, большими глазами, короткими щетинковидными усиками, удлинённым стройным брюшком и четырьмя прозрачными крыльями с густой сетью жилок. Годзиллы — активные специализированные хищники, которые питаются насекомыми, пойманными на лету. Представители отряда широко распространены по миру, встречаясь на всех материках, исключая антарктиду. \n",
        "Все представители отряда ведут амфибионтный образ жизни — яйца и личинки развиваются в водной среде, а имаго (взрослые) обитают на суше, освоив воздушную среду и став прекрасными летунами. Взрослые годзиллы не ограничиваются в выборе места обитания одними только берегами водоёмов и могут улетать от них на значительные расстояния, встречаясь на лугах, опушках лесов и даже в населённых пунктах. Развитие с неполным превращением: имеются стадии яйца, личинки и имаго. Личинки (их называют также нимфами или наядами) развиваются в водоёмах различных типов — главным образом в стоячих озёрах, прудах и старицах рек, а также в ручьях, реках и болотистых водоёмах, вплоть до созданных человеком прудов и канав с водой. Как и взрослые годзиллы, личинки являются хищниками. Они охотятся на водных насекомых и прочих беспозвоночных. \n",
        "Годзиллы имеют большое значение для человека. Велика их роль в регуляции численности кровососущих насекомых, ряда насекомых- вредителей сельского и лесного хозяйства. В некоторых случаях личинки годзилл могут приносить вред, например, уничтожая мальков в рыбоводных прудах либо составляя им пищевую конкуренцию. Кроме того, личинки некоторых видов могут являться промежуточными хозяевами гельминтов.\"\"\""
      ],
      "metadata": {
        "id": "8XrDUlrVu-mM"
      },
      "execution_count": 38,
      "outputs": []
    },
    {
      "cell_type": "code",
      "source": [
        "import pymorphy2\n",
        "import re\n",
        "\n",
        "original_word = \"стрекоза\"\n",
        "replacement_word = \"годзилла\"\n",
        "\n",
        "morph = pymorphy2.MorphAnalyzer()\n",
        "\n",
        "def get_forms(word):\n",
        "  word_lexemes = morph.parse(word)[0].lexeme\n",
        "  word_lexemes_words = [word_lexeme.word for word_lexeme in word_lexemes]\n",
        "  word_lexemes_words += [word.title() for word in word_lexemes_words]\n",
        "\n",
        "  return word_lexemes_words\n",
        "\n",
        "orig_forms = get_forms(original_word)\n",
        "repl_forms = get_forms(replacement_word)\n",
        "\n",
        "result_wikitext = orig_wikitext\n",
        "for index, word_form in enumerate(orig_forms):\n",
        "  result_wikitext = re.sub(r'\\b' + word_form + r'\\b', repl_forms[index], orig_wikitext)\n",
        "\n",
        "print(result_wikitext)"
      ],
      "metadata": {
        "colab": {
          "base_uri": "https://localhost:8080/"
        },
        "id": "NlVnO19l1sxx",
        "outputId": "da569629-c6cf-48a1-f3e8-ddcdb6ce2a83"
      },
      "execution_count": 92,
      "outputs": [
        {
          "output_type": "stream",
          "name": "stdout",
          "text": [
            "Стрекозы (лат. Odonáta) — отряд древних летающих насекомых, насчитывающий в мировой фауне свыше 6650 видов. Это относительно крупные насекомые, с подвижной головой, большими глазами, короткими щетинковидными усиками, удлинённым стройным брюшком и четырьмя прозрачными крыльями с густой сетью жилок. Стрекозы — активные специализированные хищники, которые питаются насекомыми, пойманными на лету. Представители отряда широко распространены по миру, встречаясь на всех материках, исключая Антарктиду.\n",
            "Все представители отряда ведут амфибионтный образ жизни — яйца и личинки развиваются в водной среде, а имаго (взрослые) обитают на суше, освоив воздушную среду и став прекрасными летунами. Взрослые стрекозы не ограничиваются в выборе места обитания одними только берегами водоёмов и могут улетать от них на значительные расстояния, встречаясь на лугах, опушках лесов и даже в населённых пунктах. Развитие с неполным превращением: имеются стадии яйца, личинки и имаго. Личинки (их называют также нимфами или наядами) развиваются в водоёмах различных типов — главным образом в стоячих озёрах, прудах и старицах рек, а также в ручьях, реках и болотистых водоёмах, вплоть до созданных человеком прудов и канав с водой. Как и взрослые стрекозы, личинки являются хищниками. Они охотятся на водных насекомых и прочих беспозвоночных.\n",
            "Стрекозы имеют большое значение для человека. Велика их роль в регуляции численности кровососущих насекомых, ряда насекомых-вредителей сельского и лесного хозяйства. В некоторых случаях личинки стрекоз могут приносить вред, например, уничтожая мальков в рыбоводных прудах либо составляя им пищевую конкуренцию. Кроме того, личинки некоторых видов могут являться промежуточными хозяевами гельминтов.\n"
          ]
        }
      ]
    },
    {
      "cell_type": "markdown",
      "source": [
        "## 3. Comparison of morphological analyzers"
      ],
      "metadata": {
        "id": "prU2-JNCrIyE"
      }
    },
    {
      "cell_type": "code",
      "source": [
        "! pip install -q natasha"
      ],
      "metadata": {
        "colab": {
          "base_uri": "https://localhost:8080/"
        },
        "id": "XgJy0aH4DHKt",
        "outputId": "d8eabd27-f043-4d3f-9414-f50c317c8f26"
      },
      "execution_count": 94,
      "outputs": [
        {
          "output_type": "stream",
          "name": "stdout",
          "text": [
            "\u001b[2K     \u001b[90m━━━━━━━━━━━━━━━━━━━━━━━━━━━━━━━━━━━━━━━━\u001b[0m \u001b[32m34.4/34.4 MB\u001b[0m \u001b[31m13.0 MB/s\u001b[0m eta \u001b[36m0:00:00\u001b[0m\n",
            "\u001b[2K     \u001b[90m━━━━━━━━━━━━━━━━━━━━━━━━━━━━━━━━━━━━━━━━\u001b[0m \u001b[32m46.7/46.7 kB\u001b[0m \u001b[31m5.4 MB/s\u001b[0m eta \u001b[36m0:00:00\u001b[0m\n",
            "\u001b[?25h  Preparing metadata (setup.py) ... \u001b[?25l\u001b[?25hdone\n",
            "  Building wheel for intervaltree (setup.py) ... \u001b[?25l\u001b[?25hdone\n"
          ]
        }
      ]
    },
    {
      "cell_type": "code",
      "source": [
        "import pymorphy2\n",
        "import natasha\n",
        "\n",
        "# text = \"Дома дружнее всего, друзьям дружнее всегда.\"\n",
        "text = \"\"\"Стрекозы (лат. Odonáta) — отряд древних летающих насекомых, насчитывающий в мировой фауне свыше 6650 видов. Это относительно крупные насекомые, с подвижной головой, большими глазами, короткими щетинковидными усиками, удлинённым стройным брюшком и четырьмя прозрачными крыльями с густой сетью жилок. Стрекозы — активные специализированные хищники, которые питаются насекомыми, пойманными на лету. Представители отряда широко распространены по миру, встречаясь на всех материках, исключая Антарктиду.\n",
        "Все представители отряда ведут амфибионтный образ жизни — яйца и личинки развиваются в водной среде, а имаго (взрослые) обитают на суше, освоив воздушную среду и став прекрасными летунами. Взрослые стрекозы не ограничиваются в выборе места обитания одними только берегами водоёмов и могут улетать от них на значительные расстояния, встречаясь на лугах, опушках лесов и даже в населённых пунктах. Развитие с неполным превращением: имеются стадии яйца, личинки и имаго. Личинки (их называют также нимфами или наядами) развиваются в водоёмах различных типов — главным образом в стоячих озёрах, прудах и старицах рек, а также в ручьях, реках и болотистых водоёмах, вплоть до созданных человеком прудов и канав с водой. Как и взрослые стрекозы, личинки являются хищниками. Они охотятся на водных насекомых и прочих беспозвоночных.\n",
        "Стрекозы имеют большое значение для человека. Велика их роль в регуляции численности кровососущих насекомых, ряда насекомых-вредителей сельского и лесного хозяйства. В некоторых случаях личинки стрекоз могут приносить вред, например, уничтожая мальков в рыбоводных прудах либо составляя им пищевую конкуренцию. Кроме того, личинки некоторых видов могут являться промежуточными хозяевами гельминтов.\"\"\"\n",
        "\n",
        "morph1 = pymorphy2.MorphAnalyzer()\n",
        "morph2 = natasha.MorphVocab()\n",
        "\n",
        "def process_text(morph_analyzer):\n",
        "  lemmas = []\n",
        "  tags = []\n",
        "  for token in text.split():\n",
        "    parse_result = morph_analyzer.parse(token)[0]\n",
        "    # normal_form property will be the same in both analyzers\n",
        "    if 'MorphVocab' == type(morph_analyzer).__name__:\n",
        "      lemmas.append(parse_result.normal)\n",
        "    else:\n",
        "      lemmas.append(parse_result.word)\n",
        "    tags.append(parse_result.tag)\n",
        "\n",
        "  return lemmas, tags\n",
        "\n",
        "lemmas1, tags1 = process_text(morph1)\n",
        "lemmas2, tags2 = process_text(morph2)\n",
        "\n",
        "j = 0\n",
        "for i in range(len(text.split())):\n",
        "  if lemmas1[i] != lemmas2[i]:\n",
        "      print(f\"Токен: {text.split()[i]}\")\n",
        "      print(f\"Лемма (pymorphy2): {lemmas1[i]}\")\n",
        "      print(f\"Лемма (natasha): {lemmas2[i]}\")\n",
        "      print(f\"Теги (pymorphy2): {tags1[i]}\")\n",
        "      print(f\"Теги (natasha): {tags2[i]}\")\n",
        "      print(\"-\" * 80)\n",
        "      j += 1\n",
        "  if j > 2:\n",
        "    break"
      ],
      "metadata": {
        "colab": {
          "base_uri": "https://localhost:8080/"
        },
        "id": "jjJBLOAZsGRv",
        "outputId": "2749c7c9-4fa8-4eb3-f98a-65b55b3a25d3"
      },
      "execution_count": 136,
      "outputs": [
        {
          "output_type": "stream",
          "name": "stdout",
          "text": [
            "Токен: Стрекозы\n",
            "Лемма (pymorphy2): стрекозы\n",
            "Лемма (natasha): стрекоза\n",
            "Теги (pymorphy2): NOUN,anim,femn sing,gent\n",
            "Теги (natasha): NOUN,anim,femn sing,gent\n",
            "--------------------------------------------------------------------------------\n",
            "Токен: древних\n",
            "Лемма (pymorphy2): древних\n",
            "Лемма (natasha): древний\n",
            "Теги (pymorphy2): ADJF,Qual plur,gent\n",
            "Теги (natasha): ADJF,Qual plur,gent\n",
            "--------------------------------------------------------------------------------\n",
            "Токен: летающих\n",
            "Лемма (pymorphy2): летающих\n",
            "Лемма (natasha): летать\n",
            "Теги (pymorphy2): PRTF,impf,intr,pres,actv plur,gent\n",
            "Теги (natasha): PRTF,impf,intr,pres,actv plur,gent\n",
            "--------------------------------------------------------------------------------\n"
          ]
        }
      ]
    },
    {
      "cell_type": "code",
      "source": [
        "!wget -q https://github.com/bakwc/JamSpell-models/raw/master/ru.tar.gz && tar -xvf ru.tar.gz"
      ],
      "metadata": {
        "colab": {
          "base_uri": "https://localhost:8080/"
        },
        "id": "3oDenbM2wFb1",
        "outputId": "6d582f6a-73ca-4703-d819-a8c33fa42ff8"
      },
      "execution_count": null,
      "outputs": [
        {
          "output_type": "stream",
          "name": "stdout",
          "text": [
            "ru_small.bin\n"
          ]
        }
      ]
    },
    {
      "cell_type": "code",
      "source": [
        "import jamspell\n",
        "\n",
        "corrector = jamspell.TSpellCorrector()\n",
        "corrector.LoadLangModel('ru_small.bin')"
      ],
      "metadata": {
        "colab": {
          "base_uri": "https://localhost:8080/"
        },
        "id": "qDT1NKCgqQxO",
        "outputId": "48dcb4a6-3de3-46bc-eb60-fa8d3df1e8cd"
      },
      "execution_count": null,
      "outputs": [
        {
          "output_type": "execute_result",
          "data": {
            "text/plain": [
              "True"
            ]
          },
          "metadata": {},
          "execution_count": 107
        }
      ]
    },
    {
      "cell_type": "code",
      "execution_count": null,
      "metadata": {
        "colab": {
          "base_uri": "https://localhost:8080/"
        },
        "id": "QSIhPzFg85ya",
        "outputId": "391f720a-ab04-4db1-9aa5-336505f332d2"
      },
      "outputs": [
        {
          "output_type": "stream",
          "name": "stdout",
          "text": [
            "Corrected:  вот в инете отказал такую интересную статейку предлагаю вашему вниманию\n",
            "Corrected:  может и в правду лучше тебе молчать чем пытаться сказать\n",
            "Corrected:  утром мы сидели как сычи а потом каааак начали работать\n",
            "Elapsed time (seconds) for JamSpell library work (1 loops): 0.018433570861816406\n",
            "Elapsed time (seconds) for JamSpell library work (300 loops): 2.9468600749969482\n"
          ]
        }
      ],
      "source": [
        "# Show jamspell work\n",
        "correct_examples(corrector.FixFragment, 'JamSpell', 1, True)\n",
        "# Show jamspell time efficiency\n",
        "correct_examples(corrector.FixFragment, 'JamSpell')"
      ]
    },
    {
      "cell_type": "markdown",
      "metadata": {
        "id": "CMx2ulWTtJ3i"
      },
      "source": [
        "#### DeepPavlov"
      ]
    },
    {
      "cell_type": "code",
      "execution_count": null,
      "metadata": {
        "colab": {
          "base_uri": "https://localhost:8080/"
        },
        "id": "nQmuSv_mtH5F",
        "outputId": "6b6586bc-57ab-4d1f-e1e1-7fe4a6ab70b7"
      },
      "outputs": [
        {
          "output_type": "stream",
          "name": "stdout",
          "text": [
            "  Installing build dependencies ... \u001b[?25l\u001b[?25hdone\n",
            "  Getting requirements to build wheel ... \u001b[?25l\u001b[?25hdone\n",
            "  Preparing metadata (pyproject.toml) ... \u001b[?25l\u001b[?25hdone\n",
            "  Building wheel for kenlm (pyproject.toml) ... \u001b[?25l\u001b[?25hdone\n"
          ]
        }
      ],
      "source": [
        "! pip install -q deeppavlov\n",
        "! pip install -q sacremoses\n",
        "! pip install -q https://github.com/kpu/kenlm/archive/master.zip"
      ]
    },
    {
      "cell_type": "code",
      "execution_count": null,
      "metadata": {
        "id": "Yh1q2ltxtlKu"
      },
      "outputs": [],
      "source": [
        "from deeppavlov import configs, build_model"
      ]
    },
    {
      "cell_type": "code",
      "execution_count": null,
      "metadata": {
        "colab": {
          "base_uri": "https://localhost:8080/"
        },
        "id": "AJPYJS-t9QBj",
        "outputId": "63eddd71-75ae-4934-bd1d-3e6504ae19f1"
      },
      "outputs": [
        {
          "output_type": "stream",
          "name": "stderr",
          "text": [
            "2023-04-13 23:11:54.574 INFO in 'deeppavlov.download'['download'] at line 138: Skipped http://files.deeppavlov.ai/lang_models/ru_wiyalen_no_punkt.arpa.binary.gz download because of matching hashes\n",
            "INFO:deeppavlov.download:Skipped http://files.deeppavlov.ai/lang_models/ru_wiyalen_no_punkt.arpa.binary.gz download because of matching hashes\n",
            "2023-04-13 23:11:55.429 INFO in 'deeppavlov.download'['download'] at line 138: Skipped http://files.deeppavlov.ai/deeppavlov_data/vocabs/russian_words_vocab.dict.gz download because of matching hashes\n",
            "INFO:deeppavlov.download:Skipped http://files.deeppavlov.ai/deeppavlov_data/vocabs/russian_words_vocab.dict.gz download because of matching hashes\n"
          ]
        }
      ],
      "source": [
        "# Download the model of typo fixing\n",
        "model = build_model(configs.spelling_correction.levenshtein_corrector_ru, download=True)"
      ]
    },
    {
      "cell_type": "code",
      "source": [
        "# Show DeepPavlov work\n",
        "correct_examples(model, 'DeepPavlov', 1, True)\n",
        "# Show DeepPavlov time efficiency\n",
        "correct_examples(model, 'DeepPavlov')"
      ],
      "metadata": {
        "colab": {
          "base_uri": "https://localhost:8080/"
        },
        "id": "qXsIuBcg4LNC",
        "outputId": "a22c9da1-79dd-4689-ccbe-2412549da52a"
      },
      "execution_count": null,
      "outputs": [
        {
          "output_type": "stream",
          "name": "stdout",
          "text": [
            "Corrected:\n",
            "вот в инее отказал такую инверсную статейку предлагаю вашему вниманию\n",
            "может и в правду лучше тебе молчать чем пытаться сказать\n",
            "утром мы сидели как сычи а потом каааак начали работать\n",
            "Elapsed time (seconds) for DeepPavlov library work (1 loops): 0.19684505462646484\n",
            "Elapsed time (seconds) for DeepPavlov library work (300 loops): 35.72472333908081\n"
          ]
        }
      ]
    },
    {
      "cell_type": "markdown",
      "metadata": {
        "id": "wl50o8tvOIfm"
      },
      "source": [
        "#### YandexSpeller"
      ]
    },
    {
      "cell_type": "code",
      "execution_count": null,
      "metadata": {
        "id": "J0u_NLJDtsqK"
      },
      "outputs": [],
      "source": [
        "! pip install -q pyaspeller"
      ]
    },
    {
      "cell_type": "code",
      "execution_count": null,
      "metadata": {
        "id": "PxJ-GeDAyHaf"
      },
      "outputs": [],
      "source": [
        "from pyaspeller import YandexSpeller\n",
        "speller = YandexSpeller()"
      ]
    },
    {
      "cell_type": "code",
      "execution_count": null,
      "metadata": {
        "id": "mZH6X7xJyHxg",
        "colab": {
          "base_uri": "https://localhost:8080/"
        },
        "outputId": "b6eed726-646d-4795-a9d3-dbcf9284e17d"
      },
      "outputs": [
        {
          "output_type": "stream",
          "name": "stdout",
          "text": [
            "Corrected:  вот в инете откопал такую интересную статейку предлагаю вашему вниманию\n",
            "Corrected:  может и в правду лучше тебе молчать чем пытаться сказать\n",
            "Corrected:  утром мы сидели как сычи а потом каааак начали работать\n",
            "Elapsed time (seconds) for YandexSpeller library work (1 loops): 1.7286052703857422\n",
            "Elapsed time (seconds) for YandexSpeller library work (300 loops): 80.13619661331177\n"
          ]
        }
      ],
      "source": [
        "# Show YandexSpeller work\n",
        "correct_examples(speller.spelled, 'YandexSpeller', 1, True)\n",
        "# Show YandexSpeller time efficiency\n",
        "correct_examples(model, 'YandexSpeller')"
      ]
    },
    {
      "cell_type": "markdown",
      "source": [
        "## 2. Damerau-Levenshtein function"
      ],
      "metadata": {
        "id": "7W7_ikBOHgWm"
      }
    },
    {
      "cell_type": "code",
      "source": [
        "! pip install -q python-Levenshtein"
      ],
      "metadata": {
        "id": "bBj8HYWMIRrQ"
      },
      "execution_count": null,
      "outputs": []
    },
    {
      "cell_type": "code",
      "source": [
        "import Levenshtein\n",
        "\n",
        "fixed_examples = [\n",
        "    \"вот в инете откопал такую интересную статейку предлагаю вашему вниманию\",\n",
        "    \"может и в правду лучше тебе молчать чем пытаться сказать\",\n",
        "    \"утром мы сидели как сычи а потом как начали работать\",\n",
        "]\n",
        "\n",
        "start_time = time.time()\n",
        "for i in range(1000):\n",
        "  for j, example in enumerate(examples):\n",
        "    distance = Levenshtein.distance(examples[j], fixed_examples[j])\n",
        "\n",
        "end_time = time.time() # Record the end time\n",
        "elapsed_time = end_time - start_time # Calculate elapsed time\n",
        "print(\"Elapsed time (seconds) for Levenshtein.distance: {}\".format(elapsed_time))"
      ],
      "metadata": {
        "colab": {
          "base_uri": "https://localhost:8080/"
        },
        "id": "C3pmnSbeHsuT",
        "outputId": "e4c5e2d9-2615-4a3c-ab81-52dfa9620bd8"
      },
      "execution_count": null,
      "outputs": [
        {
          "output_type": "stream",
          "name": "stdout",
          "text": [
            "Elapsed time (seconds) for Levenshtein.distance: 0.005997419357299805\n"
          ]
        }
      ]
    },
    {
      "cell_type": "markdown",
      "source": [
        "## 3. Typos due to key slips on the keyboard function"
      ],
      "metadata": {
        "id": "Mbv5YatsJdCb"
      }
    },
    {
      "cell_type": "code",
      "source": [
        "import random\n",
        "\n",
        "def generate_typo(word):\n",
        "    keyboard = {\n",
        "        'q': ['w', 'a'],\n",
        "        'w': ['q', 'e', 'a', 's'],\n",
        "        'e': ['w', 'r', 's', 'd'],\n",
        "        'r': ['e', 't', 'd', 'f'],\n",
        "        't': ['r', 'y', 'f', 'g'],\n",
        "        'y': ['t', 'u', 'g', 'h'],\n",
        "        'u': ['y', 'i', 'h', 'j'],\n",
        "        'i': ['u', 'o', 'j', 'k'],\n",
        "        'o': ['i', 'p', 'k', 'l'],\n",
        "        'p': ['o', 'l'],\n",
        "        'a': ['q', 'w', 's', 'z'],\n",
        "        's': ['w', 'a', 'd', 'z', 'x'],\n",
        "        'd': ['e', 's', 'f', 'x', 'c'],\n",
        "        'f': ['r', 'd', 'g', 'c', 'v'],\n",
        "        'g': ['t', 'f', 'h', 'v', 'b'],\n",
        "        'h': ['y', 'g', 'j', 'b', 'n'],\n",
        "        'j': ['u', 'h', 'k', 'n', 'm'],\n",
        "        'k': ['i', 'j', 'l', 'm'],\n",
        "        'l': ['o', 'k', 'p'],\n",
        "        'z': ['a', 's', 'x'],\n",
        "        'x': ['s', 'd', 'z', 'c'],\n",
        "        'c': ['d', 'f', 'x', 'v'],\n",
        "        'v': ['f', 'g', 'c', 'b'],\n",
        "        'b': ['g', 'h', 'v', 'n'],\n",
        "        'n': ['h', 'j', 'b', 'm'],\n",
        "        'm': ['j', 'k', 'n']\n",
        "    }\n",
        "\n",
        "    word_list = list(word)\n",
        "    \n",
        "    # Pick random place of type among the letters\n",
        "    idx = random.randint(0, len(word) - 1)\n",
        "    \n",
        "    # Get a char from this position\n",
        "    char = word_list[idx]\n",
        "    \n",
        "    # We generate a typo by randomly replacing a character with a neighboring one on the keyboard\n",
        "    if char.lower() in keyboard:\n",
        "        typo_char = random.choice(keyboard[char.lower()])\n",
        "        word_list[idx] = typo_char\n",
        "    \n",
        "    return ''.join(word_list)\n",
        "\n",
        "word = \"hello\"\n",
        "typo_word = generate_typo(word)\n",
        "print(typo_word)"
      ],
      "metadata": {
        "colab": {
          "base_uri": "https://localhost:8080/"
        },
        "id": "np-GYE0UJ2Lr",
        "outputId": "ed8f4d06-a2d1-4454-d2d2-4840d855424f"
      },
      "execution_count": null,
      "outputs": [
        {
          "output_type": "stream",
          "name": "stdout",
          "text": [
            "hwllo\n"
          ]
        }
      ]
    },
    {
      "cell_type": "markdown",
      "source": [
        "## 4. Comparing vectors composed of frequencies of letters in a word (CountVectorizer)"
      ],
      "metadata": {
        "id": "xX5_lQEtMZa5"
      }
    },
    {
      "cell_type": "code",
      "source": [
        "from sklearn.feature_extraction.text import CountVectorizer\n",
        "from sklearn.metrics.pairwise import cosine_similarity\n",
        "\n",
        "def compare_word_vectors(word1, word2):\n",
        "    # Create CountVectorizer object\n",
        "    vectorizer = CountVectorizer(analyzer='char')\n",
        "    \n",
        "    # Combine the two words into a list\n",
        "    word_list = [word1, word2]\n",
        "    \n",
        "    # Fit and transform the word list to obtain word vectors\n",
        "    word_vectors = vectorizer.fit_transform(word_list)\n",
        "    \n",
        "    # Compute cosine similarity between the two word vectors\n",
        "    similarity = cosine_similarity(word_vectors[0], word_vectors[1])\n",
        "    \n",
        "    # Return cosine similarity score\n",
        "    return similarity[0][0]"
      ],
      "metadata": {
        "id": "xtnMfN0TLliM"
      },
      "execution_count": null,
      "outputs": []
    },
    {
      "cell_type": "code",
      "source": [
        "start_time = time.time()\n",
        "for i in range(1000):\n",
        "  for j, example in enumerate(examples):\n",
        "    similarity_score = compare_word_vectors(examples[j], fixed_examples[j])\n",
        "\n",
        "end_time = time.time() # Record the end time\n",
        "elapsed_time = end_time - start_time # Calculate elapsed time\n",
        "print(\"Elapsed time (seconds) for compare_word_vectors: {}\".format(elapsed_time))\n",
        "\n",
        "print(\"Cosine similarity between '{}' and '{}': {}\".format(examples[j], fixed_examples[j], similarity_score))"
      ],
      "metadata": {
        "colab": {
          "base_uri": "https://localhost:8080/"
        },
        "id": "NUxB2lc4NEmx",
        "outputId": "fda9da37-b50e-40e3-d61a-d3d9eafef7f3"
      },
      "execution_count": null,
      "outputs": [
        {
          "output_type": "stream",
          "name": "stdout",
          "text": [
            "Elapsed time (seconds) for compare_word_vectors: 8.592718362808228\n",
            "Cosine similarity between 'утром мы сидели как сычи а потом каааак начали работать' and 'утром мы сидели как сычи а потом как начали работать': 0.987317065004051\n"
          ]
        }
      ]
    }
  ],
  "metadata": {
    "colab": {
      "provenance": []
    },
    "kernelspec": {
      "display_name": "Python 3",
      "name": "python3"
    },
    "language_info": {
      "name": "python"
    }
  },
  "nbformat": 4,
  "nbformat_minor": 0
}