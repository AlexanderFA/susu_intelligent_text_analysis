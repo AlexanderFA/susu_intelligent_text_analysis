{
 "cells": [
  {
   "cell_type": "markdown",
   "metadata": {
    "id": "-1p5BlXEkOyY",
    "pycharm": {
     "name": "#%% md\n"
    }
   },
   "source": [
    "# Syntactic analysis"
   ]
  },
  {
   "cell_type": "markdown",
   "source": [
    "## 1. Explain the meaning of the three UD tags of syntactic relations using a fragment of a marked-up corpus as an example"
   ],
   "metadata": {
    "id": "B8pRfInpLokG",
    "pycharm": {
     "name": "#%% md\n"
    }
   }
  },
  {
   "cell_type": "code",
   "source": [
    "! wget -q https://www.dropbox.com/s/am6nasx6bx82nhp/RuEval2017-Lenta-news-dev.conllu"
   ],
   "metadata": {
    "id": "j0R4An8_LRU-",
    "pycharm": {
     "name": "#%%\n"
    }
   },
   "execution_count": null,
   "outputs": []
  },
  {
   "cell_type": "code",
   "execution_count": null,
   "metadata": {
    "id": "uMXh5pV0kacc",
    "colab": {
     "base_uri": "https://localhost:8080/"
    },
    "outputId": "984b845d-751c-40aa-bf03-d2f14699231a",
    "pycharm": {
     "name": "#%%\n"
    }
   },
   "outputs": [
    {
     "output_type": "stream",
     "name": "stdout",
     "text": [
      "21\tв\tв\tADP\t_\t_\t23\tcase\t_\t_\n",
      "22\t1969\t1969\tADJ\t_\tNumForm=Digit\t23\tamod\t_\t_\n",
      "23\tгоду\tгод\tNOUN\t_\tAnimacy=Inan|Case=Loc|Gender=Masc|Number=Sing\t20\tobl\t_\t_\n",
      "24\tза\tза\tADP\t_\t_\t25\tcase\t_\t_\n",
      "25\tзадержание\tзадержание\tNOUN\t_\tAnimacy=Inan|Case=Acc|Gender=Neut|Number=Sing\t20\tobl\t_\t_\n",
      "26\tособо\tособо\tADV\t_\tDegree=Pos\t27\tadvmod\t_\t_\n",
      "27\tопасного\tопасный\tADJ\t_\tCase=Gen|Degree=Pos|Gender=Masc|Number=Sing\t28\tamod\t_\t_\n",
      "28\tпреступника\tпреступник\tNOUN\t_\tAnimacy=Anim|Case=Gen|Gender=Masc|Number=Sing\t25\tnmod\t_\t_\n",
      "29\t.\t.\tPUNCT\t_\t_\t9\tpunct\t_\t_\n",
      "\n"
     ]
    }
   ],
   "source": [
    "! head -497 RuEval2017-Lenta-news-dev.conllu | tail -10"
   ]
  },
  {
   "cell_type": "code",
   "source": [
    "corpus_file = 'RuEval2017-Lenta-news-dev.conllu'"
   ],
   "metadata": {
    "id": "c0_3G-yHqk4U",
    "pycharm": {
     "name": "#%%\n"
    }
   },
   "execution_count": null,
   "outputs": []
  },
  {
   "cell_type": "code",
   "source": [
    "! pip install -q natasha\n",
    "! pip install -q conllu"
   ],
   "metadata": {
    "colab": {
     "base_uri": "https://localhost:8080/"
    },
    "id": "nGRaqCd4qR0d",
    "outputId": "013867ae-0b63-4f34-be9c-6351ea00e10e",
    "pycharm": {
     "name": "#%%\n"
    }
   },
   "execution_count": null,
   "outputs": [
    {
     "output_type": "stream",
     "name": "stdout",
     "text": [
      "\u001B[2K     \u001B[90m━━━━━━━━━━━━━━━━━━━━━━━━━━━━━━━━━━━━━━━━\u001B[0m \u001B[32m34.4/34.4 MB\u001B[0m \u001B[31m37.8 MB/s\u001B[0m eta \u001B[36m0:00:00\u001B[0m\n",
      "\u001B[2K     \u001B[90m━━━━━━━━━━━━━━━━━━━━━━━━━━━━━━━━━━━━━━━━\u001B[0m \u001B[32m46.7/46.7 kB\u001B[0m \u001B[31m4.7 MB/s\u001B[0m eta \u001B[36m0:00:00\u001B[0m\n",
      "\u001B[2K     \u001B[90m━━━━━━━━━━━━━━━━━━━━━━━━━━━━━━━━━━━━━━━━\u001B[0m \u001B[32m55.5/55.5 kB\u001B[0m \u001B[31m4.1 MB/s\u001B[0m eta \u001B[36m0:00:00\u001B[0m\n",
      "\u001B[?25h  Preparing metadata (setup.py) ... \u001B[?25l\u001B[?25hdone\n",
      "\u001B[2K     \u001B[90m━━━━━━━━━━━━━━━━━━━━━━━━━━━━━━━━━━━━━━━━\u001B[0m \u001B[32m8.2/8.2 MB\u001B[0m \u001B[31m68.0 MB/s\u001B[0m eta \u001B[36m0:00:00\u001B[0m\n",
      "\u001B[?25h  Preparing metadata (setup.py) ... \u001B[?25l\u001B[?25hdone\n",
      "  Building wheel for docopt (setup.py) ... \u001B[?25l\u001B[?25hdone\n",
      "  Building wheel for intervaltree (setup.py) ... \u001B[?25l\u001B[?25hdone\n"
     ]
    }
   ]
  },
  {
   "cell_type": "code",
   "source": [
    "from natasha.syntax import NewsSyntaxParser\n",
    "from natasha import (\n",
    "    Doc, \n",
    "    Segmenter,\n",
    "    NewsEmbedding,\n",
    "    # MorphVocab,\n",
    "    # NewsMorphTagger\n",
    ")\n",
    "from conllu import parse\n",
    "import string\n",
    "\n",
    "# Create instances of needed Natasha components\n",
    "segmenter = Segmenter()\n",
    "emb = NewsEmbedding()\n",
    "syntax_parser = NewsSyntaxParser(emb)\n",
    "# morph_vocab = MorphVocab()\n",
    "# morph_tagger = NewsMorphTagger(emb)\n",
    "\n",
    "# Download CoNLL-U\n",
    "with open(corpus_file, 'r', encoding='utf-8') as file:\n",
    "    conll_text = file.read()\n",
    "\n",
    "# Parse CoNLL-U text and create Doc object from tokens\n",
    "parsed_data = parse(conll_text)\n",
    "# tokens = [token['form'] for sentence in parsed_data for token in sentence if token['form'] not in string.punctuation]\n",
    "tokens = [token['form'] for sentence in parsed_data for token in sentence]\n",
    "print(tokens[5:8])\n",
    "doc = Doc(' '.join(tokens))\n",
    "# Tokenization\n",
    "doc.segment(segmenter)\n",
    "doc.parse_syntax(syntax_parser)\n",
    "doc.sents[0].syntax.print()\n",
    "# print(doc.tokens[5:8])\n",
    "# # Setting morphological tags for tokens\n",
    "# doc.tag_morph(morph_tagger)\n",
    "# # Getting tokens and morphological tags\n",
    "# for token in doc.tokens:\n",
    "#     print(\"Токен: \", token.text)\n",
    "#     print(\"Тег: \", token.pos)\n",
    "#     print(\"Тег морфологии: \", token.feats)\n",
    "#     print(\"--------------\")"
   ],
   "metadata": {
    "colab": {
     "base_uri": "https://localhost:8080/"
    },
    "id": "-WJRqgmrpDlk",
    "outputId": "a4b6dcb8-788f-41e3-e136-2bb973d8be9c",
    "pycharm": {
     "name": "#%%\n"
    }
   },
   "execution_count": null,
   "outputs": [
    {
     "output_type": "stream",
     "name": "stdout",
     "text": [
      "['подробности', 'программы', ',']\n",
      "    ┌──► Официальные    amod\n",
      "    │ ┌► американские   amod\n",
      "    └─└─ власти         nsubj\n",
      "┌───└─┌─ отказываются   \n",
      "│ ┌─┌─└► комментировать xcomp\n",
      "│ │ └►┌─ подробности    obj\n",
      "│ │   └► программы      nmod\n",
      "│ │   ┌► ,              punct\n",
      "│ └──►└─ ссылаясь       advcl\n",
      "│ │ ┌──► на             case\n",
      "│ │ │ ┌► ее             det\n",
      "│ └►└─└─ секретность    obl\n",
      "└──────► .              punct\n"
     ]
    }
   ]
  },
  {
   "cell_type": "markdown",
   "source": [
    "## 2. Write a function for splitting a two-part compound sentence into simple ones"
   ],
   "metadata": {
    "id": "zvcA8YZW6CRk",
    "pycharm": {
     "name": "#%% md\n"
    }
   }
  },
  {
   "cell_type": "markdown",
   "source": [
    "### razdel"
   ],
   "metadata": {
    "id": "yORIRFRV9Beh",
    "pycharm": {
     "name": "#%% md\n"
    }
   }
  },
  {
   "cell_type": "code",
   "source": [
    "! pip install razdel"
   ],
   "metadata": {
    "colab": {
     "base_uri": "https://localhost:8080/"
    },
    "id": "GAU7ndLSaftb",
    "outputId": "5ba5ee1f-f23f-4bc1-895c-de9424937117",
    "pycharm": {
     "name": "#%%\n"
    }
   },
   "execution_count": null,
   "outputs": [
    {
     "output_type": "stream",
     "name": "stdout",
     "text": [
      "Looking in indexes: https://pypi.org/simple, https://us-python.pkg.dev/colab-wheels/public/simple/\n",
      "Requirement already satisfied: razdel in /usr/local/lib/python3.9/dist-packages (0.5.0)\n"
     ]
    }
   ]
  },
  {
   "cell_type": "code",
   "source": [
    "text = '''\n",
    "- \"Так в чем же дело?\" - \"Не ра-ду-ют\".\n",
    "И т. д. и т. п. В общем, вся газета\n",
    "'''\n",
    "\n",
    "from razdel import sentenize\n",
    "print(list(sentenize(text)))\n",
    "# print(list(sentenize(doc.sents[0].text)))"
   ],
   "metadata": {
    "colab": {
     "base_uri": "https://localhost:8080/"
    },
    "id": "ahRljdi4w3xd",
    "outputId": "a7414191-1971-4319-b06a-8a6396f8ceff",
    "pycharm": {
     "name": "#%%\n"
    }
   },
   "execution_count": null,
   "outputs": [
    {
     "output_type": "stream",
     "name": "stdout",
     "text": [
      "[Substring(1, 23, '- \"Так в чем же дело?\"'), Substring(24, 40, '- \"Не ра-ду-ют\".'), Substring(41, 56, 'И т. д. и т. п.'), Substring(57, 76, 'В общем, вся газета')]\n"
     ]
    }
   ]
  },
  {
   "cell_type": "code",
   "source": [
    "sent1 = doc.sents[0]\n",
    "sent2 = doc.sents[1]\n",
    "print(sent1.text)\n",
    "print(sent2.text)"
   ],
   "metadata": {
    "colab": {
     "base_uri": "https://localhost:8080/"
    },
    "id": "1AlOmZmAzlsJ",
    "outputId": "15ae79c3-00f4-41b7-f4cc-80feb308a2f4",
    "pycharm": {
     "name": "#%%\n"
    }
   },
   "execution_count": null,
   "outputs": [
    {
     "output_type": "stream",
     "name": "stdout",
     "text": [
      "Официальные американские власти отказываются комментировать подробности программы , ссылаясь на ее секретность .\n",
      "Единственный сын одного из высокопоставленных северокорейских генералов бежал из страны вместе с семьей и сейчас находится в руках американской разведки .\n"
     ]
    }
   ]
  },
  {
   "cell_type": "markdown",
   "source": [
    "### spacy"
   ],
   "metadata": {
    "id": "dtliiGtK9EyA",
    "pycharm": {
     "name": "#%% md\n"
    }
   }
  },
  {
   "cell_type": "code",
   "source": [
    "! pip install -q spacy\n",
    "! python -m spacy download ru_core_news_sm --quiet"
   ],
   "metadata": {
    "colab": {
     "base_uri": "https://localhost:8080/"
    },
    "id": "NwT9coRAE9XP",
    "outputId": "c3d54a72-8ab7-435d-9567-46329f4365d2",
    "pycharm": {
     "name": "#%%\n"
    }
   },
   "execution_count": null,
   "outputs": [
    {
     "output_type": "stream",
     "name": "stdout",
     "text": [
      "2023-04-19 00:02:29.129034: W tensorflow/compiler/tf2tensorrt/utils/py_utils.cc:38] TF-TRT Warning: Could not find TensorRT\n",
      "\u001B[38;5;2m✔ Download and installation successful\u001B[0m\n",
      "You can now load the package via spacy.load('ru_core_news_sm')\n"
     ]
    }
   ]
  },
  {
   "cell_type": "code",
   "source": [
    "import spacy\n",
    "\n",
    "nlp = spacy.load(\"ru_core_news_sm\")\n",
    "\n",
    "doc_spacy = nlp(sent1.text)\n",
    "\n",
    "simple_sentences = [sent.text for sent in doc_spacy.sents]\n",
    "\n",
    "for i, simple_sentence in enumerate(simple_sentences):\n",
    "    print(f\"Простое предложение {i + 1}: {simple_sentence}\")"
   ],
   "metadata": {
    "colab": {
     "base_uri": "https://localhost:8080/"
    },
    "id": "yzLNVrI80BFJ",
    "outputId": "cf6e360d-79db-4002-8c91-3cc149d9e664",
    "pycharm": {
     "name": "#%%\n"
    }
   },
   "execution_count": null,
   "outputs": [
    {
     "output_type": "stream",
     "name": "stdout",
     "text": [
      "Простое предложение 1: Официальные американские власти отказываются комментировать подробности программы , ссылаясь на ее секретность .\n"
     ]
    }
   ]
  },
  {
   "cell_type": "markdown",
   "source": [
    "### custom"
   ],
   "metadata": {
    "id": "19HHy_pR9I3v",
    "pycharm": {
     "name": "#%% md\n"
    }
   }
  },
  {
   "cell_type": "code",
   "source": [
    "import string\n",
    "\n",
    "def split_complex_sentences(doc):\n",
    "    # Split complex sentences into simple clauses\n",
    "    j = 0\n",
    "    split_sentences = []\n",
    "    for sent in doc.sents:\n",
    "        clauses = []\n",
    "        conj_indices = [i for i, token in enumerate(sent.tokens) if token.rel == 'conj']\n",
    "        if conj_indices:\n",
    "            print(sent.text)\n",
    "            clause_start = 0\n",
    "            for conj_index in conj_indices:\n",
    "                clause_end = conj_index\n",
    "                clause = ' '.join(token.text for token in sent.tokens[clause_start:clause_end])\n",
    "                if clause:\n",
    "                    clauses.append(clause.strip())\n",
    "                clause_start = conj_index\n",
    "            last_clause = ' '.join(token.text for token in sent.tokens[conj_indices[-1]:])\n",
    "            if last_clause:\n",
    "                clauses.append(last_clause.strip())\n",
    "            split_sentences.extend(clauses)\n",
    "            for i, clause in enumerate(clauses):\n",
    "              print(r'Simple sentence {}: {}'.format(i + 1, clause))\n",
    "            j += 1\n",
    "            if j > 9:\n",
    "              break\n",
    "            print('')\n",
    "\n",
    "    return split_sentences"
   ],
   "metadata": {
    "id": "KZi6HPDe7sWQ",
    "pycharm": {
     "name": "#%%\n"
    }
   },
   "execution_count": null,
   "outputs": []
  },
  {
   "cell_type": "code",
   "source": [
    "split_sentences = split_complex_sentences(doc)"
   ],
   "metadata": {
    "colab": {
     "base_uri": "https://localhost:8080/"
    },
    "id": "iMCDrdxm7zlE",
    "outputId": "b25ca2f1-987f-4f7b-cf02-b055d718fbb2",
    "pycharm": {
     "name": "#%%\n"
    }
   },
   "execution_count": null,
   "outputs": [
    {
     "output_type": "stream",
     "name": "stdout",
     "text": [
      "Единственный сын одного из высокопоставленных северокорейских генералов бежал из страны вместе с семьей и сейчас находится в руках американской разведки .\n",
      "Simple sentence 1: Единственный сын одного из высокопоставленных северокорейских генералов бежал из страны вместе с семьей и сейчас\n",
      "Simple sentence 2: находится в руках американской разведки .\n",
      "\n",
      "Это решение уже трижды рассматривалось в судах — первая инстанция удовлетворила жалобу \" ЮКОСа \" , однако вторая и третья признали арест акций законным .\n",
      "Simple sentence 1: Это решение уже трижды рассматривалось в судах — первая инстанция удовлетворила жалобу \" ЮКОСа \" , однако вторая и\n",
      "Simple sentence 2: третья признали арест акций законным .\n",
      "\n",
      "Ранее один из преступников , представившийся \" Хасаном \" , заявил , что он \" русский и требует самолет в Россию \" .\n",
      "Simple sentence 1: Ранее один из преступников , представившийся \" Хасаном \" , заявил , что он \" русский и\n",
      "Simple sentence 2: требует самолет в Россию \" .\n",
      "\n",
      "Министр общественного порядка также уточнил , что всего в автобусе были 23 заложника и поблагодарил сотрудников правоохранительных органов за профессиональные действия , которые помогли избежать жертв .\n",
      "Simple sentence 1: Министр общественного порядка также уточнил , что всего в автобусе были 23 заложника и\n",
      "Simple sentence 2: поблагодарил сотрудников правоохранительных органов за профессиональные действия , которые помогли избежать жертв .\n",
      "\n",
      "Водителю и кондуктору удалось бежать во время захвата .\n",
      "Simple sentence 1: Водителю и\n",
      "Simple sentence 2: кондуктору удалось бежать во время захвата .\n",
      "\n",
      "Террористы , вооруженные пистолетом и ружьем , требовали предоставить им миллион евро и самолет , чтобы покинуть Грецию .\n",
      "Simple sentence 1: Террористы , вооруженные пистолетом и\n",
      "Simple sentence 2: ружьем , требовали предоставить им миллион евро и\n",
      "Simple sentence 3: самолет , чтобы покинуть Грецию .\n",
      "\n",
      "На протяжении дня террористы после переговоров с полицией и властями отпускали по нескольку заложников .\n",
      "Simple sentence 1: На протяжении дня террористы после переговоров с полицией и\n",
      "Simple sentence 2: властями отпускали по нескольку заложников .\n",
      "\n",
      "Дипломат уверил Танака , что российское правительство озабочено сложившейся ситуацией , но не хотело бы политизировать этот вопрос .\n",
      "Simple sentence 1: Дипломат уверил Танака , что российское правительство озабочено сложившейся ситуацией , но не\n",
      "Simple sentence 2: хотело бы политизировать этот вопрос .\n",
      "\n",
      "В настоящее время к промыслу морепродуктов у берегов спорных островов допущены некоторые южнокорейские и северокорейские рыболовецкие компании .\n",
      "Simple sentence 1: В настоящее время к промыслу морепродуктов у берегов спорных островов допущены некоторые южнокорейские и\n",
      "Simple sentence 2: северокорейские рыболовецкие компании .\n",
      "\n",
      "Тихонов сообщил , что уже шестой день находится в Австрии , в одной из лучших клиник мира по нейрохирургии и сердечно-сосудистым заболеваниям .\n",
      "Simple sentence 1: Тихонов сообщил , что уже шестой день находится в Австрии , в одной из лучших клиник мира по нейрохирургии и сердечно-сосудистым\n",
      "Simple sentence 2: заболеваниям .\n"
     ]
    }
   ]
  },
  {
   "cell_type": "markdown",
   "source": [
    "## 3. Write a function for finding the smallest common ancestor of two tokens in a dependency tree"
   ],
   "metadata": {
    "id": "Z5coe9ffA4xL",
    "pycharm": {
     "name": "#%% md\n"
    }
   }
  },
  {
   "cell_type": "code",
   "source": [
    "from natasha import Doc, MorphVocab\n",
    "from natasha.syntax import NewsSyntaxParser\n",
    "\n",
    "segmenter = Segmenter()\n",
    "emb = NewsEmbedding()\n",
    "syntax_parser = NewsSyntaxParser(emb)\n",
    "\n",
    "# Функция для нахождения наименьшего общего предка (LCA) в дереве зависимостей\n",
    "def find_lca(doc, token1, token2):\n",
    "    # Найдите узел, соответствующий каждому из токенов\n",
    "    node1 = None\n",
    "    node2 = None\n",
    "    for sent in doc.sents:\n",
    "        for token in sent.tokens:\n",
    "            # print(token.text, token1)\n",
    "            if token.text == token1.text:\n",
    "                node1 = token\n",
    "            if token.text == token2.text:\n",
    "                node2 = token\n",
    "\n",
    "    # Проверка на наличие узлов в дереве зависимостей\n",
    "    if node1 is None or node2 is None:\n",
    "        raise ValueError(\"Один из токенов не найден в дереве зависимостей\")\n",
    "\n",
    "    # Найдите путь от корня до каждого из узлов\n",
    "    path1 = set()\n",
    "    path2 = set()\n",
    "    while node1 is not None:\n",
    "        path1.add(node1)\n",
    "        node1 = find_token_head(doc, node1)\n",
    "    while node2 is not None:\n",
    "        path2.add(node2)\n",
    "        node2 = find_token_head(doc, node2)\n",
    "\n",
    "    # Найдите наименьший общий элемент в списках путей\n",
    "    lca = None\n",
    "    for node in path1:\n",
    "        if node in path2:\n",
    "            lca = node\n",
    "            break\n",
    "\n",
    "    return lca\n",
    "\n",
    "def find_token_head(doc, node):\n",
    "    for token in doc.tokens:\n",
    "        if token.id == node.head_id:\n",
    "            return token\n",
    "    return None\n",
    "\n",
    "# Пример использования функции\n",
    "text = \"Единственный сын одного из высокопоставленных северокорейских генералов бежал из страны вместе с семьей и сейчас находится в руках американской разведки.\"\n",
    "doc = Doc(text)\n",
    "doc.segment(segmenter)\n",
    "doc.parse_syntax(syntax_parser)\n",
    "doc.sents[0].syntax.print()\n",
    "\n",
    "token1_id = 14\n",
    "token2_id = 17\n",
    "\n",
    "token1 = doc.tokens[token1_id]\n",
    "token2 = doc.tokens[token2_id]\n",
    "\n",
    "lca = find_lca(doc, token1, token2)\n",
    "\n",
    "if lca is not None:\n",
    "    print(f\"Наименьший общий предок для токенов {token1.text} и {token2.text}: {lca.text}\")\n",
    "else:\n",
    "    print(\"Наименьший общий предок не найден\")\n"
   ],
   "metadata": {
    "colab": {
     "base_uri": "https://localhost:8080/"
    },
    "id": "dBa6IOXKA5Ak",
    "outputId": "58f8e653-f8a6-4517-99a3-9d0e377dfe4c",
    "pycharm": {
     "name": "#%%\n"
    }
   },
   "execution_count": null,
   "outputs": [
    {
     "output_type": "stream",
     "name": "stdout",
     "text": [
      "            ┌► Единственный       amod\n",
      "    ┌────►┌─└─ сын                nsubj\n",
      "    │ ┌───└──► одного             nmod\n",
      "    │ │ ┌────► из                 case\n",
      "    │ │ │ ┌──► высокопоставленных amod\n",
      "    │ │ │ │ ┌► северокорейских    amod\n",
      "    │ └►└─└─└─ генералов          nmod\n",
      "┌─┌─└───┌─┌─── бежал              \n",
      "│ │     │ │ ┌► из                 case\n",
      "│ │     │ └►└─ страны             obl\n",
      "│ │     └►┌─── вместе             advmod\n",
      "│ │       │ ┌► с                  case\n",
      "│ │       └►└─ семьей             obl\n",
      "│ │       ┌──► и                  cc\n",
      "│ │       │ ┌► сейчас             advmod\n",
      "│ └────►┌─└─└─ находится          conj\n",
      "│       │   ┌► в                  case\n",
      "│     ┌─└──►└─ руках              obl\n",
      "│     │     ┌► американской       amod\n",
      "│     └────►└─ разведки           nmod\n",
      "└────────────► .                  punct\n",
      "Наименьший общий предок для токенов сейчас и руках: находится\n"
     ]
    }
   ]
  },
  {
   "cell_type": "markdown",
   "source": [
    "## 4. Compare three pairs of sentences using two methods: comparing dependency tree editing distance (zss) and a cosine measure between BERT-embeddings"
   ],
   "metadata": {
    "id": "uhtG98sVJ4iu",
    "pycharm": {
     "name": "#%% md\n"
    }
   }
  },
  {
   "cell_type": "code",
   "source": [
    "! pip install -q zss"
   ],
   "metadata": {
    "colab": {
     "base_uri": "https://localhost:8080/"
    },
    "id": "7xdw3GuxJ7N5",
    "outputId": "fe866077-23fd-4dc8-ff42-fbe8274eae47",
    "pycharm": {
     "name": "#%%\n"
    }
   },
   "execution_count": null,
   "outputs": [
    {
     "output_type": "stream",
     "name": "stdout",
     "text": [
      "  Preparing metadata (setup.py) ... \u001B[?25l\u001B[?25hdone\n",
      "  Building wheel for zss (setup.py) ... \u001B[?25l\u001B[?25hdone\n"
     ]
    }
   ]
  },
  {
   "cell_type": "code",
   "source": [
    "import spacy\n",
    "from zss import simple_distance, Node\n",
    "\n",
    "nlp = spacy.load(\"ru_core_news_sm\")"
   ],
   "metadata": {
    "id": "Dsi8rcIgKxqE",
    "pycharm": {
     "name": "#%%\n"
    }
   },
   "execution_count": 152,
   "outputs": []
  },
  {
   "cell_type": "code",
   "source": [
    "examples = [\"Привет, у нас на кухне нашли плесень!\", \n",
    "            \"На нашей кухне нашли много всего: бактерии, грибки и позавчерашнее молоко.\",\n",
    "            \"Привет, у них в подвале нашли клад!\" ]"
   ],
   "metadata": {
    "id": "o76FgyFyMG3_",
    "pycharm": {
     "name": "#%%\n"
    }
   },
   "execution_count": null,
   "outputs": []
  },
  {
   "cell_type": "code",
   "source": [
    "# from natasha import MorphAnalyzer, SyntaxParser, NewsSyntaxParser\n",
    "from natasha import (\n",
    "    Doc, \n",
    "    Segmenter,\n",
    "    NewsEmbedding,\n",
    "    MorphVocab,\n",
    "    NewsMorphTagger\n",
    ")\n",
    "from zss import Node, simple_distance\n",
    "\n",
    "segmenter = Segmenter()\n",
    "emb = NewsEmbedding()\n",
    "syntax_parser = NewsSyntaxParser(emb)\n",
    "morph_vocab = MorphVocab()\n",
    "\n",
    "def analyze_postags(sent):\n",
    "    \"\"\" Выполняем морфологический анализ предложения и возвращаем список постегов \"\"\"\n",
    "    words = sent.split()\n",
    "    postags = []\n",
    "    for word in words:\n",
    "        parsed = morph_vocab.parse(word)[0]\n",
    "        postag = parsed.tag.POS\n",
    "        postags.append(postag)\n",
    "    return postags\n",
    "\n",
    "def analyze_syntax(sent):\n",
    "    \"\"\" Выполняем синтаксический анализ предложения и возвращаем список синтаксических аннотаций слов \"\"\"\n",
    "    # syntax_dep_tree = syntax_parser.parse(sent).as_json\n",
    "    doc = Doc(sent)\n",
    "    doc.segment(segmenter)\n",
    "    doc.parse_syntax(syntax_parser)\n",
    "    # syntax_dep_tree = doc.sents[0].syntax.tokens[0].as_json\n",
    "    syntax_dep_tree = doc.sents[0].syntax.tokens\n",
    "    # print(syntax_dep_tree)\n",
    "\n",
    "    return syntax_dep_tree\n",
    "\n",
    "def pos_dep_tree(postags, syntax_dep_tree):\n",
    "    \"\"\" Конвертируем результат морфосинтаксического анализа в zss-дерево из частей речи и синтаксических связей\n",
    "    NOUN -> advmod -> VERB \"\"\"\n",
    "    \n",
    "    root = Node('root')\n",
    "    pos_nodes = {}\n",
    "    for i, postag in enumerate(postags):\n",
    "        pos_nodes[i] = Node(postag)\n",
    "    \n",
    "    for i, dependency_edge in enumerate(syntax_dep_tree):\n",
    "        relation = dependency_edge.rel\n",
    "        index = dependency_edge.id\n",
    "        parent_index = dependency_edge.head_id\n",
    "        \n",
    "        relation_node = Node(relation)\n",
    "        if parent_index in pos_nodes:\n",
    "            pos_nodes[parent_index].addkid(relation_node)\n",
    "        else:\n",
    "            root.addkid(relation_node)\n",
    "        \n",
    "        if index in pos_nodes:\n",
    "            relation_node.addkid(pos_nodes[index])\n",
    "        else:\n",
    "            relation_node.addkid(Node(syntax_dep_tree[i].text))\n",
    "    \n",
    "    return root\n",
    "\n",
    "def sent_dep_tree(sent):\n",
    "    \"\"\" Получаем список постегов и список синтаксических аннотаций слов предложения, полученные выбранным анализатором (или анализаторами) \"\"\"\n",
    "    postags = analyze_postags(sent)\n",
    "    syntax_dep_tree = analyze_syntax(sent)\n",
    "    return pos_dep_tree(postags, syntax_dep_tree)\n",
    "\n",
    "def dep_tree_similarity(dep1, dep2, smoothing=5.0):\n",
    "    return smoothing / (smoothing + simple_distance(dep1, dep2))\n",
    "\n",
    "def sentence_similarity(sent1, sent2, smoothing=5.0):\n",
    "    return dep_tree_similarity(sent_dep_tree(sent1), sent_dep_tree(sent2), smoothing)\n",
    "\n",
    "examples = [\"Привет, у нас на кухне нашли плесень!\", \n",
    "            \"На нашей кухне нашли много всего: бактерии, грибки и позавчерашнее молоко.\",\n",
    "            \"Привет, у них в подвале нашли клад!\" ]\n",
    "\n",
    "for pair in [[0, 1], [1, 2], [0, 2]]:\n",
    "    print((examples[pair[0]], examples[pair[1]],\n",
    "           sentence_similarity(examples[pair[0]], examples[pair[1]])))\n",
    "    \n",
    "print('')\n",
    "print('Control:')\n",
    "examples = [\"Привет, у нас на кухне нашли плесень!\", \n",
    "            \"На нашей кухне нашли много всего: бактерии, грибки и позавчерашнее молоко.\",\n",
    "            \"Привет, у нас на кухне нашли плесень!\" ]\n",
    "            \n",
    "for pair in [[0, 1], [1, 2], [0, 2]]:\n",
    "    print((examples[pair[0]], examples[pair[1]],\n",
    "           sentence_similarity(examples[pair[0]], examples[pair[1]])))\n"
   ],
   "metadata": {
    "colab": {
     "base_uri": "https://localhost:8080/"
    },
    "id": "XQ41rKLXLMRx",
    "outputId": "fb5de1a3-88bd-448d-899e-ed8b886f976a",
    "pycharm": {
     "name": "#%%\n"
    }
   },
   "execution_count": 210,
   "outputs": [
    {
     "output_type": "stream",
     "name": "stdout",
     "text": [
      "('Привет, у нас на кухне нашли плесень!', 'На нашей кухне нашли много всего: бактерии, грибки и позавчерашнее молоко.', 0.041666666666666664)\n",
      "('На нашей кухне нашли много всего: бактерии, грибки и позавчерашнее молоко.', 'Привет, у них в подвале нашли клад!', 0.04065040650406504)\n",
      "('Привет, у нас на кухне нашли плесень!', 'Привет, у них в подвале нашли клад!', 0.14705882352941177)\n",
      "\n",
      "Control:\n",
      "('Привет, у нас на кухне нашли плесень!', 'На нашей кухне нашли много всего: бактерии, грибки и позавчерашнее молоко.', 0.041666666666666664)\n",
      "('На нашей кухне нашли много всего: бактерии, грибки и позавчерашнее молоко.', 'Привет, у нас на кухне нашли плесень!', 0.041666666666666664)\n",
      "('Привет, у нас на кухне нашли плесень!', 'Привет, у нас на кухне нашли плесень!', 1.0)\n"
     ]
    }
   ]
  },
  {
   "cell_type": "markdown",
   "source": [
    "### embeddings"
   ],
   "metadata": {
    "id": "C10RFSwVXNHR",
    "pycharm": {
     "name": "#%% md\n"
    }
   }
  },
  {
   "cell_type": "code",
   "source": [
    "! pip install -q transformers"
   ],
   "metadata": {
    "id": "t17DYOZgXPRr",
    "pycharm": {
     "name": "#%%\n"
    }
   },
   "execution_count": 183,
   "outputs": []
  },
  {
   "cell_type": "code",
   "source": [
    "from transformers import BertTokenizer, BertModel\n",
    "import torch\n",
    "\n",
    "# Для примера возьмём не оригинальный BERT (DeepPavlov/rubert-base-cased), \n",
    "# а sentence-BERT, дообученный на задаче языкового вывода, и, следовательно, \n",
    "# более точный в семантическом представлении предложений.\n",
    "# https://huggingface.co/DeepPavlov/rubert-base-cased-sentence#rubert-base-cased-sentence\n",
    "# Можете заменить на любой другой вариант открытой модели BERT для русского языка.\n",
    "\n",
    "tokenizer = BertTokenizer.from_pretrained('DeepPavlov/rubert-base-cased-sentence')\n",
    "model = BertModel.from_pretrained('DeepPavlov/rubert-base-cased-sentence')"
   ],
   "metadata": {
    "colab": {
     "base_uri": "https://localhost:8080/",
     "height": 197,
     "referenced_widgets": [
      "f0c4f2879f714155bdde8c38455dfeae",
      "b9f920d7d7904034a802e1c855815a03",
      "5182cca1a64841b18025bab7c4b81ebc",
      "cef3c14ddab74dd0a304a37eaf9afda2",
      "29d8e3a6c22942ba88b869dc518f8ab4",
      "d796139635f847e0b6dd63c4c7bf9b07",
      "99dd51b3eeb14eb4b87e1218af695b32",
      "efaeaec91a1b4beb9d518ae8b242c73e",
      "e92d388381434169a863d14dcbffd1c4",
      "9c18008d9ab24e1d8bc34dafe6c9f375",
      "57270bc026124732842b3c7174c83f06",
      "c090e5f285b04ded843e49d8c0f43a75",
      "ddfcd6eb118c4efeab4c4d6fade848e5",
      "ef53d319ac114f7c80ecdc3f8e06f161",
      "1309c7fed8f04bf1a8dc78e02cebda86",
      "d5fbd3606de84c48a20baf425a4a9fd9",
      "82009f6a8edc474ea52addac5756f4d8",
      "04646ad69fe54ce8a83fbc92fc33c2d0",
      "195e1162b02740179dd156c0e7182e71",
      "3ec811a10a8d451e8b4cafaa2ec40677",
      "8c27a5078347436385b522272260aa0d",
      "41a92729c37d4dae87219caffa50043f",
      "c99e659ba4004a598a2c445fc9b56a4d",
      "1d8ab82e68364a619d78fb23237d492e",
      "b4b9533fe64041eb8d9028bb7467ab15",
      "ff20fa40b45240fa8429855b37957399",
      "8554f0e15a66432aa1a18bae2f611a59",
      "5977aa8ed1f742848ca2a2814131e791",
      "553185bdd67e4aa397331ce5942236b1",
      "d4e3ab7a7d7a451992855362b1367b1b",
      "606fd1ccdee74ac381e659eaf355faa7",
      "85a310e03b214f18b07ae70f804eda8d",
      "acf0a4441f1c4fccb29f0c5b40c6a494",
      "013793b9e5fa48479257445c3c1ad34c",
      "d44da34ce3d948a795ebf8717fd8fa5d",
      "23e6c38d2086429f8865c8310dec7dda",
      "7e15139028a2404bb48df86176d685a9",
      "25d668c9593f42179d493acccddf9dda",
      "4d243bafe69c45859de129c41f53b369",
      "e490b074003e410395342693d65b0cff",
      "9cc91ee19561410480703cb8350c5073",
      "1430ad8a8bd94fef97368c844f2fde8e",
      "40b7e5daec494f42a952cce0dc99c9df",
      "aaa916ec0290466da6e337f12c0d2725",
      "f203f9292799461ba9175859520bf6a7",
      "324597fb537f45029a85fe5531213918",
      "91379685110a451cae3396ea4346efbc",
      "1304dbd0a9724a068d10aa218e528fc4",
      "3cdf7639462c4294b74c43100b76c80e",
      "9d64b2a66b6a4f31859fabf0ae92802e",
      "93cd6e2fc16f45c4b920f2de5a4d9c8c",
      "bc7ca79573cc4b6183b60bd27ccc9165",
      "aaf1379baffe422a99cfe5d1b51a38f8",
      "e4e7dbf8c18342c6ae7ce39c0662826d",
      "eeb21453171f436d804b8daa42d100ec"
     ]
    },
    "id": "U9IINA1bXb0_",
    "outputId": "7064551e-8fd9-4270-f292-7c454ee206ee",
    "pycharm": {
     "name": "#%%\n"
    }
   },
   "execution_count": 184,
   "outputs": [
    {
     "output_type": "display_data",
     "data": {
      "text/plain": [
       "Downloading (…)solve/main/vocab.txt:   0%|          | 0.00/1.65M [00:00<?, ?B/s]"
      ],
      "application/vnd.jupyter.widget-view+json": {
       "version_major": 2,
       "version_minor": 0,
       "model_id": "f0c4f2879f714155bdde8c38455dfeae"
      }
     },
     "metadata": {}
    },
    {
     "output_type": "display_data",
     "data": {
      "text/plain": [
       "Downloading (…)cial_tokens_map.json:   0%|          | 0.00/112 [00:00<?, ?B/s]"
      ],
      "application/vnd.jupyter.widget-view+json": {
       "version_major": 2,
       "version_minor": 0,
       "model_id": "c090e5f285b04ded843e49d8c0f43a75"
      }
     },
     "metadata": {}
    },
    {
     "output_type": "display_data",
     "data": {
      "text/plain": [
       "Downloading (…)okenizer_config.json:   0%|          | 0.00/24.0 [00:00<?, ?B/s]"
      ],
      "application/vnd.jupyter.widget-view+json": {
       "version_major": 2,
       "version_minor": 0,
       "model_id": "c99e659ba4004a598a2c445fc9b56a4d"
      }
     },
     "metadata": {}
    },
    {
     "output_type": "display_data",
     "data": {
      "text/plain": [
       "Downloading (…)lve/main/config.json:   0%|          | 0.00/642 [00:00<?, ?B/s]"
      ],
      "application/vnd.jupyter.widget-view+json": {
       "version_major": 2,
       "version_minor": 0,
       "model_id": "013793b9e5fa48479257445c3c1ad34c"
      }
     },
     "metadata": {}
    },
    {
     "output_type": "display_data",
     "data": {
      "text/plain": [
       "Downloading pytorch_model.bin:   0%|          | 0.00/711M [00:00<?, ?B/s]"
      ],
      "application/vnd.jupyter.widget-view+json": {
       "version_major": 2,
       "version_minor": 0,
       "model_id": "f203f9292799461ba9175859520bf6a7"
      }
     },
     "metadata": {}
    }
   ]
  },
  {
   "cell_type": "code",
   "source": [
    "import numpy\n",
    "from sklearn.metrics.pairwise import cosine_similarity\n",
    "\n",
    "def embed_sentence(sentence: str):\n",
    "  \"\"\" Возвращает векторное представление предложения с использованием модели BERT \"\"\"\n",
    "  # Токенизация предложения\n",
    "  input_ids = torch.tensor([tokenizer.encode(sentence, add_special_tokens=True)])\n",
    "  # Предсказания модели\n",
    "  outputs = model(input_ids)\n",
    "  # Возвращаем усредненное векторное представление\n",
    "  return torch.mean(outputs[0].detach(), axis=1).numpy()\n",
    "\n",
    "embedded_examples = [embed_sentence(sent) for sent in examples]\n",
    "\n",
    "for pair in [[0, 1], [1, 2], [0, 2]]:\n",
    "  print((examples[pair[0]], examples[pair[1]],\n",
    "    cosine_similarity(embedded_examples[pair[0]], embedded_examples[pair[1]])[0][0]))\n",
    "  \n",
    "print('')\n",
    "print('Control:')\n",
    "examples = [\"Привет, у нас на кухне нашли плесень!\", \n",
    "            \"На нашей кухне нашли много всего: бактерии, грибки и позавчерашнее молоко.\",\n",
    "            \"Привет, у нас на кухне нашли плесень!\" ]\n",
    "\n",
    "for pair in [[0, 1], [1, 2], [0, 2]]:\n",
    "  print((examples[pair[0]], examples[pair[1]],\n",
    "    cosine_similarity(embedded_examples[pair[0]], embedded_examples[pair[1]])[0][0]))"
   ],
   "metadata": {
    "colab": {
     "base_uri": "https://localhost:8080/"
    },
    "id": "a5fMzejOXz2F",
    "outputId": "439ffd47-b87d-46b7-9ef7-4c7d3a62b985",
    "pycharm": {
     "name": "#%%\n"
    }
   },
   "execution_count": 212,
   "outputs": [
    {
     "output_type": "stream",
     "name": "stdout",
     "text": [
      "('Привет, у нас на кухне нашли плесень!', 'На нашей кухне нашли много всего: бактерии, грибки и позавчерашнее молоко.', 0.78814584)\n",
      "('На нашей кухне нашли много всего: бактерии, грибки и позавчерашнее молоко.', 'Привет, у нас на кухне нашли плесень!', 0.78814584)\n",
      "('Привет, у нас на кухне нашли плесень!', 'Привет, у нас на кухне нашли плесень!', 1.0000001)\n",
      "\n",
      "Control:\n",
      "('Привет, у нас на кухне нашли плесень!', 'На нашей кухне нашли много всего: бактерии, грибки и позавчерашнее молоко.', 0.78814584)\n",
      "('На нашей кухне нашли много всего: бактерии, грибки и позавчерашнее молоко.', 'Привет, у нас на кухне нашли плесень!', 0.78814584)\n",
      "('Привет, у нас на кухне нашли плесень!', 'Привет, у нас на кухне нашли плесень!', 1.0000001)\n"
     ]
    }
   ]
  },
  {
   "cell_type": "code",
   "source": [],
   "metadata": {
    "id": "l18-Oz3dYIxD",
    "pycharm": {
     "name": "#%%\n"
    }
   },
   "execution_count": 211,
   "outputs": []
  }
 ],
 "metadata": {
  "colab": {
   "provenance": []
  },
  "kernelspec": {
   "display_name": "Python 3",
   "name": "python3"
  },
  "language_info": {
   "name": "python"
  },
  "widgets": {
   "application/vnd.jupyter.widget-state+json": {
    "f0c4f2879f714155bdde8c38455dfeae": {
     "model_module": "@jupyter-widgets/controls",
     "model_name": "HBoxModel",
     "model_module_version": "1.5.0",
     "state": {
      "_dom_classes": [],
      "_model_module": "@jupyter-widgets/controls",
      "_model_module_version": "1.5.0",
      "_model_name": "HBoxModel",
      "_view_count": null,
      "_view_module": "@jupyter-widgets/controls",
      "_view_module_version": "1.5.0",
      "_view_name": "HBoxView",
      "box_style": "",
      "children": [
       "IPY_MODEL_b9f920d7d7904034a802e1c855815a03",
       "IPY_MODEL_5182cca1a64841b18025bab7c4b81ebc",
       "IPY_MODEL_cef3c14ddab74dd0a304a37eaf9afda2"
      ],
      "layout": "IPY_MODEL_29d8e3a6c22942ba88b869dc518f8ab4"
     }
    },
    "b9f920d7d7904034a802e1c855815a03": {
     "model_module": "@jupyter-widgets/controls",
     "model_name": "HTMLModel",
     "model_module_version": "1.5.0",
     "state": {
      "_dom_classes": [],
      "_model_module": "@jupyter-widgets/controls",
      "_model_module_version": "1.5.0",
      "_model_name": "HTMLModel",
      "_view_count": null,
      "_view_module": "@jupyter-widgets/controls",
      "_view_module_version": "1.5.0",
      "_view_name": "HTMLView",
      "description": "",
      "description_tooltip": null,
      "layout": "IPY_MODEL_d796139635f847e0b6dd63c4c7bf9b07",
      "placeholder": "​",
      "style": "IPY_MODEL_99dd51b3eeb14eb4b87e1218af695b32",
      "value": "Downloading (…)solve/main/vocab.txt: 100%"
     }
    },
    "5182cca1a64841b18025bab7c4b81ebc": {
     "model_module": "@jupyter-widgets/controls",
     "model_name": "FloatProgressModel",
     "model_module_version": "1.5.0",
     "state": {
      "_dom_classes": [],
      "_model_module": "@jupyter-widgets/controls",
      "_model_module_version": "1.5.0",
      "_model_name": "FloatProgressModel",
      "_view_count": null,
      "_view_module": "@jupyter-widgets/controls",
      "_view_module_version": "1.5.0",
      "_view_name": "ProgressView",
      "bar_style": "success",
      "description": "",
      "description_tooltip": null,
      "layout": "IPY_MODEL_efaeaec91a1b4beb9d518ae8b242c73e",
      "max": 1649718,
      "min": 0,
      "orientation": "horizontal",
      "style": "IPY_MODEL_e92d388381434169a863d14dcbffd1c4",
      "value": 1649718
     }
    },
    "cef3c14ddab74dd0a304a37eaf9afda2": {
     "model_module": "@jupyter-widgets/controls",
     "model_name": "HTMLModel",
     "model_module_version": "1.5.0",
     "state": {
      "_dom_classes": [],
      "_model_module": "@jupyter-widgets/controls",
      "_model_module_version": "1.5.0",
      "_model_name": "HTMLModel",
      "_view_count": null,
      "_view_module": "@jupyter-widgets/controls",
      "_view_module_version": "1.5.0",
      "_view_name": "HTMLView",
      "description": "",
      "description_tooltip": null,
      "layout": "IPY_MODEL_9c18008d9ab24e1d8bc34dafe6c9f375",
      "placeholder": "​",
      "style": "IPY_MODEL_57270bc026124732842b3c7174c83f06",
      "value": " 1.65M/1.65M [00:00&lt;00:00, 13.7MB/s]"
     }
    },
    "29d8e3a6c22942ba88b869dc518f8ab4": {
     "model_module": "@jupyter-widgets/base",
     "model_name": "LayoutModel",
     "model_module_version": "1.2.0",
     "state": {
      "_model_module": "@jupyter-widgets/base",
      "_model_module_version": "1.2.0",
      "_model_name": "LayoutModel",
      "_view_count": null,
      "_view_module": "@jupyter-widgets/base",
      "_view_module_version": "1.2.0",
      "_view_name": "LayoutView",
      "align_content": null,
      "align_items": null,
      "align_self": null,
      "border": null,
      "bottom": null,
      "display": null,
      "flex": null,
      "flex_flow": null,
      "grid_area": null,
      "grid_auto_columns": null,
      "grid_auto_flow": null,
      "grid_auto_rows": null,
      "grid_column": null,
      "grid_gap": null,
      "grid_row": null,
      "grid_template_areas": null,
      "grid_template_columns": null,
      "grid_template_rows": null,
      "height": null,
      "justify_content": null,
      "justify_items": null,
      "left": null,
      "margin": null,
      "max_height": null,
      "max_width": null,
      "min_height": null,
      "min_width": null,
      "object_fit": null,
      "object_position": null,
      "order": null,
      "overflow": null,
      "overflow_x": null,
      "overflow_y": null,
      "padding": null,
      "right": null,
      "top": null,
      "visibility": null,
      "width": null
     }
    },
    "d796139635f847e0b6dd63c4c7bf9b07": {
     "model_module": "@jupyter-widgets/base",
     "model_name": "LayoutModel",
     "model_module_version": "1.2.0",
     "state": {
      "_model_module": "@jupyter-widgets/base",
      "_model_module_version": "1.2.0",
      "_model_name": "LayoutModel",
      "_view_count": null,
      "_view_module": "@jupyter-widgets/base",
      "_view_module_version": "1.2.0",
      "_view_name": "LayoutView",
      "align_content": null,
      "align_items": null,
      "align_self": null,
      "border": null,
      "bottom": null,
      "display": null,
      "flex": null,
      "flex_flow": null,
      "grid_area": null,
      "grid_auto_columns": null,
      "grid_auto_flow": null,
      "grid_auto_rows": null,
      "grid_column": null,
      "grid_gap": null,
      "grid_row": null,
      "grid_template_areas": null,
      "grid_template_columns": null,
      "grid_template_rows": null,
      "height": null,
      "justify_content": null,
      "justify_items": null,
      "left": null,
      "margin": null,
      "max_height": null,
      "max_width": null,
      "min_height": null,
      "min_width": null,
      "object_fit": null,
      "object_position": null,
      "order": null,
      "overflow": null,
      "overflow_x": null,
      "overflow_y": null,
      "padding": null,
      "right": null,
      "top": null,
      "visibility": null,
      "width": null
     }
    },
    "99dd51b3eeb14eb4b87e1218af695b32": {
     "model_module": "@jupyter-widgets/controls",
     "model_name": "DescriptionStyleModel",
     "model_module_version": "1.5.0",
     "state": {
      "_model_module": "@jupyter-widgets/controls",
      "_model_module_version": "1.5.0",
      "_model_name": "DescriptionStyleModel",
      "_view_count": null,
      "_view_module": "@jupyter-widgets/base",
      "_view_module_version": "1.2.0",
      "_view_name": "StyleView",
      "description_width": ""
     }
    },
    "efaeaec91a1b4beb9d518ae8b242c73e": {
     "model_module": "@jupyter-widgets/base",
     "model_name": "LayoutModel",
     "model_module_version": "1.2.0",
     "state": {
      "_model_module": "@jupyter-widgets/base",
      "_model_module_version": "1.2.0",
      "_model_name": "LayoutModel",
      "_view_count": null,
      "_view_module": "@jupyter-widgets/base",
      "_view_module_version": "1.2.0",
      "_view_name": "LayoutView",
      "align_content": null,
      "align_items": null,
      "align_self": null,
      "border": null,
      "bottom": null,
      "display": null,
      "flex": null,
      "flex_flow": null,
      "grid_area": null,
      "grid_auto_columns": null,
      "grid_auto_flow": null,
      "grid_auto_rows": null,
      "grid_column": null,
      "grid_gap": null,
      "grid_row": null,
      "grid_template_areas": null,
      "grid_template_columns": null,
      "grid_template_rows": null,
      "height": null,
      "justify_content": null,
      "justify_items": null,
      "left": null,
      "margin": null,
      "max_height": null,
      "max_width": null,
      "min_height": null,
      "min_width": null,
      "object_fit": null,
      "object_position": null,
      "order": null,
      "overflow": null,
      "overflow_x": null,
      "overflow_y": null,
      "padding": null,
      "right": null,
      "top": null,
      "visibility": null,
      "width": null
     }
    },
    "e92d388381434169a863d14dcbffd1c4": {
     "model_module": "@jupyter-widgets/controls",
     "model_name": "ProgressStyleModel",
     "model_module_version": "1.5.0",
     "state": {
      "_model_module": "@jupyter-widgets/controls",
      "_model_module_version": "1.5.0",
      "_model_name": "ProgressStyleModel",
      "_view_count": null,
      "_view_module": "@jupyter-widgets/base",
      "_view_module_version": "1.2.0",
      "_view_name": "StyleView",
      "bar_color": null,
      "description_width": ""
     }
    },
    "9c18008d9ab24e1d8bc34dafe6c9f375": {
     "model_module": "@jupyter-widgets/base",
     "model_name": "LayoutModel",
     "model_module_version": "1.2.0",
     "state": {
      "_model_module": "@jupyter-widgets/base",
      "_model_module_version": "1.2.0",
      "_model_name": "LayoutModel",
      "_view_count": null,
      "_view_module": "@jupyter-widgets/base",
      "_view_module_version": "1.2.0",
      "_view_name": "LayoutView",
      "align_content": null,
      "align_items": null,
      "align_self": null,
      "border": null,
      "bottom": null,
      "display": null,
      "flex": null,
      "flex_flow": null,
      "grid_area": null,
      "grid_auto_columns": null,
      "grid_auto_flow": null,
      "grid_auto_rows": null,
      "grid_column": null,
      "grid_gap": null,
      "grid_row": null,
      "grid_template_areas": null,
      "grid_template_columns": null,
      "grid_template_rows": null,
      "height": null,
      "justify_content": null,
      "justify_items": null,
      "left": null,
      "margin": null,
      "max_height": null,
      "max_width": null,
      "min_height": null,
      "min_width": null,
      "object_fit": null,
      "object_position": null,
      "order": null,
      "overflow": null,
      "overflow_x": null,
      "overflow_y": null,
      "padding": null,
      "right": null,
      "top": null,
      "visibility": null,
      "width": null
     }
    },
    "57270bc026124732842b3c7174c83f06": {
     "model_module": "@jupyter-widgets/controls",
     "model_name": "DescriptionStyleModel",
     "model_module_version": "1.5.0",
     "state": {
      "_model_module": "@jupyter-widgets/controls",
      "_model_module_version": "1.5.0",
      "_model_name": "DescriptionStyleModel",
      "_view_count": null,
      "_view_module": "@jupyter-widgets/base",
      "_view_module_version": "1.2.0",
      "_view_name": "StyleView",
      "description_width": ""
     }
    },
    "c090e5f285b04ded843e49d8c0f43a75": {
     "model_module": "@jupyter-widgets/controls",
     "model_name": "HBoxModel",
     "model_module_version": "1.5.0",
     "state": {
      "_dom_classes": [],
      "_model_module": "@jupyter-widgets/controls",
      "_model_module_version": "1.5.0",
      "_model_name": "HBoxModel",
      "_view_count": null,
      "_view_module": "@jupyter-widgets/controls",
      "_view_module_version": "1.5.0",
      "_view_name": "HBoxView",
      "box_style": "",
      "children": [
       "IPY_MODEL_ddfcd6eb118c4efeab4c4d6fade848e5",
       "IPY_MODEL_ef53d319ac114f7c80ecdc3f8e06f161",
       "IPY_MODEL_1309c7fed8f04bf1a8dc78e02cebda86"
      ],
      "layout": "IPY_MODEL_d5fbd3606de84c48a20baf425a4a9fd9"
     }
    },
    "ddfcd6eb118c4efeab4c4d6fade848e5": {
     "model_module": "@jupyter-widgets/controls",
     "model_name": "HTMLModel",
     "model_module_version": "1.5.0",
     "state": {
      "_dom_classes": [],
      "_model_module": "@jupyter-widgets/controls",
      "_model_module_version": "1.5.0",
      "_model_name": "HTMLModel",
      "_view_count": null,
      "_view_module": "@jupyter-widgets/controls",
      "_view_module_version": "1.5.0",
      "_view_name": "HTMLView",
      "description": "",
      "description_tooltip": null,
      "layout": "IPY_MODEL_82009f6a8edc474ea52addac5756f4d8",
      "placeholder": "​",
      "style": "IPY_MODEL_04646ad69fe54ce8a83fbc92fc33c2d0",
      "value": "Downloading (…)cial_tokens_map.json: 100%"
     }
    },
    "ef53d319ac114f7c80ecdc3f8e06f161": {
     "model_module": "@jupyter-widgets/controls",
     "model_name": "FloatProgressModel",
     "model_module_version": "1.5.0",
     "state": {
      "_dom_classes": [],
      "_model_module": "@jupyter-widgets/controls",
      "_model_module_version": "1.5.0",
      "_model_name": "FloatProgressModel",
      "_view_count": null,
      "_view_module": "@jupyter-widgets/controls",
      "_view_module_version": "1.5.0",
      "_view_name": "ProgressView",
      "bar_style": "success",
      "description": "",
      "description_tooltip": null,
      "layout": "IPY_MODEL_195e1162b02740179dd156c0e7182e71",
      "max": 112,
      "min": 0,
      "orientation": "horizontal",
      "style": "IPY_MODEL_3ec811a10a8d451e8b4cafaa2ec40677",
      "value": 112
     }
    },
    "1309c7fed8f04bf1a8dc78e02cebda86": {
     "model_module": "@jupyter-widgets/controls",
     "model_name": "HTMLModel",
     "model_module_version": "1.5.0",
     "state": {
      "_dom_classes": [],
      "_model_module": "@jupyter-widgets/controls",
      "_model_module_version": "1.5.0",
      "_model_name": "HTMLModel",
      "_view_count": null,
      "_view_module": "@jupyter-widgets/controls",
      "_view_module_version": "1.5.0",
      "_view_name": "HTMLView",
      "description": "",
      "description_tooltip": null,
      "layout": "IPY_MODEL_8c27a5078347436385b522272260aa0d",
      "placeholder": "​",
      "style": "IPY_MODEL_41a92729c37d4dae87219caffa50043f",
      "value": " 112/112 [00:00&lt;00:00, 1.57kB/s]"
     }
    },
    "d5fbd3606de84c48a20baf425a4a9fd9": {
     "model_module": "@jupyter-widgets/base",
     "model_name": "LayoutModel",
     "model_module_version": "1.2.0",
     "state": {
      "_model_module": "@jupyter-widgets/base",
      "_model_module_version": "1.2.0",
      "_model_name": "LayoutModel",
      "_view_count": null,
      "_view_module": "@jupyter-widgets/base",
      "_view_module_version": "1.2.0",
      "_view_name": "LayoutView",
      "align_content": null,
      "align_items": null,
      "align_self": null,
      "border": null,
      "bottom": null,
      "display": null,
      "flex": null,
      "flex_flow": null,
      "grid_area": null,
      "grid_auto_columns": null,
      "grid_auto_flow": null,
      "grid_auto_rows": null,
      "grid_column": null,
      "grid_gap": null,
      "grid_row": null,
      "grid_template_areas": null,
      "grid_template_columns": null,
      "grid_template_rows": null,
      "height": null,
      "justify_content": null,
      "justify_items": null,
      "left": null,
      "margin": null,
      "max_height": null,
      "max_width": null,
      "min_height": null,
      "min_width": null,
      "object_fit": null,
      "object_position": null,
      "order": null,
      "overflow": null,
      "overflow_x": null,
      "overflow_y": null,
      "padding": null,
      "right": null,
      "top": null,
      "visibility": null,
      "width": null
     }
    },
    "82009f6a8edc474ea52addac5756f4d8": {
     "model_module": "@jupyter-widgets/base",
     "model_name": "LayoutModel",
     "model_module_version": "1.2.0",
     "state": {
      "_model_module": "@jupyter-widgets/base",
      "_model_module_version": "1.2.0",
      "_model_name": "LayoutModel",
      "_view_count": null,
      "_view_module": "@jupyter-widgets/base",
      "_view_module_version": "1.2.0",
      "_view_name": "LayoutView",
      "align_content": null,
      "align_items": null,
      "align_self": null,
      "border": null,
      "bottom": null,
      "display": null,
      "flex": null,
      "flex_flow": null,
      "grid_area": null,
      "grid_auto_columns": null,
      "grid_auto_flow": null,
      "grid_auto_rows": null,
      "grid_column": null,
      "grid_gap": null,
      "grid_row": null,
      "grid_template_areas": null,
      "grid_template_columns": null,
      "grid_template_rows": null,
      "height": null,
      "justify_content": null,
      "justify_items": null,
      "left": null,
      "margin": null,
      "max_height": null,
      "max_width": null,
      "min_height": null,
      "min_width": null,
      "object_fit": null,
      "object_position": null,
      "order": null,
      "overflow": null,
      "overflow_x": null,
      "overflow_y": null,
      "padding": null,
      "right": null,
      "top": null,
      "visibility": null,
      "width": null
     }
    },
    "04646ad69fe54ce8a83fbc92fc33c2d0": {
     "model_module": "@jupyter-widgets/controls",
     "model_name": "DescriptionStyleModel",
     "model_module_version": "1.5.0",
     "state": {
      "_model_module": "@jupyter-widgets/controls",
      "_model_module_version": "1.5.0",
      "_model_name": "DescriptionStyleModel",
      "_view_count": null,
      "_view_module": "@jupyter-widgets/base",
      "_view_module_version": "1.2.0",
      "_view_name": "StyleView",
      "description_width": ""
     }
    },
    "195e1162b02740179dd156c0e7182e71": {
     "model_module": "@jupyter-widgets/base",
     "model_name": "LayoutModel",
     "model_module_version": "1.2.0",
     "state": {
      "_model_module": "@jupyter-widgets/base",
      "_model_module_version": "1.2.0",
      "_model_name": "LayoutModel",
      "_view_count": null,
      "_view_module": "@jupyter-widgets/base",
      "_view_module_version": "1.2.0",
      "_view_name": "LayoutView",
      "align_content": null,
      "align_items": null,
      "align_self": null,
      "border": null,
      "bottom": null,
      "display": null,
      "flex": null,
      "flex_flow": null,
      "grid_area": null,
      "grid_auto_columns": null,
      "grid_auto_flow": null,
      "grid_auto_rows": null,
      "grid_column": null,
      "grid_gap": null,
      "grid_row": null,
      "grid_template_areas": null,
      "grid_template_columns": null,
      "grid_template_rows": null,
      "height": null,
      "justify_content": null,
      "justify_items": null,
      "left": null,
      "margin": null,
      "max_height": null,
      "max_width": null,
      "min_height": null,
      "min_width": null,
      "object_fit": null,
      "object_position": null,
      "order": null,
      "overflow": null,
      "overflow_x": null,
      "overflow_y": null,
      "padding": null,
      "right": null,
      "top": null,
      "visibility": null,
      "width": null
     }
    },
    "3ec811a10a8d451e8b4cafaa2ec40677": {
     "model_module": "@jupyter-widgets/controls",
     "model_name": "ProgressStyleModel",
     "model_module_version": "1.5.0",
     "state": {
      "_model_module": "@jupyter-widgets/controls",
      "_model_module_version": "1.5.0",
      "_model_name": "ProgressStyleModel",
      "_view_count": null,
      "_view_module": "@jupyter-widgets/base",
      "_view_module_version": "1.2.0",
      "_view_name": "StyleView",
      "bar_color": null,
      "description_width": ""
     }
    },
    "8c27a5078347436385b522272260aa0d": {
     "model_module": "@jupyter-widgets/base",
     "model_name": "LayoutModel",
     "model_module_version": "1.2.0",
     "state": {
      "_model_module": "@jupyter-widgets/base",
      "_model_module_version": "1.2.0",
      "_model_name": "LayoutModel",
      "_view_count": null,
      "_view_module": "@jupyter-widgets/base",
      "_view_module_version": "1.2.0",
      "_view_name": "LayoutView",
      "align_content": null,
      "align_items": null,
      "align_self": null,
      "border": null,
      "bottom": null,
      "display": null,
      "flex": null,
      "flex_flow": null,
      "grid_area": null,
      "grid_auto_columns": null,
      "grid_auto_flow": null,
      "grid_auto_rows": null,
      "grid_column": null,
      "grid_gap": null,
      "grid_row": null,
      "grid_template_areas": null,
      "grid_template_columns": null,
      "grid_template_rows": null,
      "height": null,
      "justify_content": null,
      "justify_items": null,
      "left": null,
      "margin": null,
      "max_height": null,
      "max_width": null,
      "min_height": null,
      "min_width": null,
      "object_fit": null,
      "object_position": null,
      "order": null,
      "overflow": null,
      "overflow_x": null,
      "overflow_y": null,
      "padding": null,
      "right": null,
      "top": null,
      "visibility": null,
      "width": null
     }
    },
    "41a92729c37d4dae87219caffa50043f": {
     "model_module": "@jupyter-widgets/controls",
     "model_name": "DescriptionStyleModel",
     "model_module_version": "1.5.0",
     "state": {
      "_model_module": "@jupyter-widgets/controls",
      "_model_module_version": "1.5.0",
      "_model_name": "DescriptionStyleModel",
      "_view_count": null,
      "_view_module": "@jupyter-widgets/base",
      "_view_module_version": "1.2.0",
      "_view_name": "StyleView",
      "description_width": ""
     }
    },
    "c99e659ba4004a598a2c445fc9b56a4d": {
     "model_module": "@jupyter-widgets/controls",
     "model_name": "HBoxModel",
     "model_module_version": "1.5.0",
     "state": {
      "_dom_classes": [],
      "_model_module": "@jupyter-widgets/controls",
      "_model_module_version": "1.5.0",
      "_model_name": "HBoxModel",
      "_view_count": null,
      "_view_module": "@jupyter-widgets/controls",
      "_view_module_version": "1.5.0",
      "_view_name": "HBoxView",
      "box_style": "",
      "children": [
       "IPY_MODEL_1d8ab82e68364a619d78fb23237d492e",
       "IPY_MODEL_b4b9533fe64041eb8d9028bb7467ab15",
       "IPY_MODEL_ff20fa40b45240fa8429855b37957399"
      ],
      "layout": "IPY_MODEL_8554f0e15a66432aa1a18bae2f611a59"
     }
    },
    "1d8ab82e68364a619d78fb23237d492e": {
     "model_module": "@jupyter-widgets/controls",
     "model_name": "HTMLModel",
     "model_module_version": "1.5.0",
     "state": {
      "_dom_classes": [],
      "_model_module": "@jupyter-widgets/controls",
      "_model_module_version": "1.5.0",
      "_model_name": "HTMLModel",
      "_view_count": null,
      "_view_module": "@jupyter-widgets/controls",
      "_view_module_version": "1.5.0",
      "_view_name": "HTMLView",
      "description": "",
      "description_tooltip": null,
      "layout": "IPY_MODEL_5977aa8ed1f742848ca2a2814131e791",
      "placeholder": "​",
      "style": "IPY_MODEL_553185bdd67e4aa397331ce5942236b1",
      "value": "Downloading (…)okenizer_config.json: 100%"
     }
    },
    "b4b9533fe64041eb8d9028bb7467ab15": {
     "model_module": "@jupyter-widgets/controls",
     "model_name": "FloatProgressModel",
     "model_module_version": "1.5.0",
     "state": {
      "_dom_classes": [],
      "_model_module": "@jupyter-widgets/controls",
      "_model_module_version": "1.5.0",
      "_model_name": "FloatProgressModel",
      "_view_count": null,
      "_view_module": "@jupyter-widgets/controls",
      "_view_module_version": "1.5.0",
      "_view_name": "ProgressView",
      "bar_style": "success",
      "description": "",
      "description_tooltip": null,
      "layout": "IPY_MODEL_d4e3ab7a7d7a451992855362b1367b1b",
      "max": 24,
      "min": 0,
      "orientation": "horizontal",
      "style": "IPY_MODEL_606fd1ccdee74ac381e659eaf355faa7",
      "value": 24
     }
    },
    "ff20fa40b45240fa8429855b37957399": {
     "model_module": "@jupyter-widgets/controls",
     "model_name": "HTMLModel",
     "model_module_version": "1.5.0",
     "state": {
      "_dom_classes": [],
      "_model_module": "@jupyter-widgets/controls",
      "_model_module_version": "1.5.0",
      "_model_name": "HTMLModel",
      "_view_count": null,
      "_view_module": "@jupyter-widgets/controls",
      "_view_module_version": "1.5.0",
      "_view_name": "HTMLView",
      "description": "",
      "description_tooltip": null,
      "layout": "IPY_MODEL_85a310e03b214f18b07ae70f804eda8d",
      "placeholder": "​",
      "style": "IPY_MODEL_acf0a4441f1c4fccb29f0c5b40c6a494",
      "value": " 24.0/24.0 [00:00&lt;00:00, 381B/s]"
     }
    },
    "8554f0e15a66432aa1a18bae2f611a59": {
     "model_module": "@jupyter-widgets/base",
     "model_name": "LayoutModel",
     "model_module_version": "1.2.0",
     "state": {
      "_model_module": "@jupyter-widgets/base",
      "_model_module_version": "1.2.0",
      "_model_name": "LayoutModel",
      "_view_count": null,
      "_view_module": "@jupyter-widgets/base",
      "_view_module_version": "1.2.0",
      "_view_name": "LayoutView",
      "align_content": null,
      "align_items": null,
      "align_self": null,
      "border": null,
      "bottom": null,
      "display": null,
      "flex": null,
      "flex_flow": null,
      "grid_area": null,
      "grid_auto_columns": null,
      "grid_auto_flow": null,
      "grid_auto_rows": null,
      "grid_column": null,
      "grid_gap": null,
      "grid_row": null,
      "grid_template_areas": null,
      "grid_template_columns": null,
      "grid_template_rows": null,
      "height": null,
      "justify_content": null,
      "justify_items": null,
      "left": null,
      "margin": null,
      "max_height": null,
      "max_width": null,
      "min_height": null,
      "min_width": null,
      "object_fit": null,
      "object_position": null,
      "order": null,
      "overflow": null,
      "overflow_x": null,
      "overflow_y": null,
      "padding": null,
      "right": null,
      "top": null,
      "visibility": null,
      "width": null
     }
    },
    "5977aa8ed1f742848ca2a2814131e791": {
     "model_module": "@jupyter-widgets/base",
     "model_name": "LayoutModel",
     "model_module_version": "1.2.0",
     "state": {
      "_model_module": "@jupyter-widgets/base",
      "_model_module_version": "1.2.0",
      "_model_name": "LayoutModel",
      "_view_count": null,
      "_view_module": "@jupyter-widgets/base",
      "_view_module_version": "1.2.0",
      "_view_name": "LayoutView",
      "align_content": null,
      "align_items": null,
      "align_self": null,
      "border": null,
      "bottom": null,
      "display": null,
      "flex": null,
      "flex_flow": null,
      "grid_area": null,
      "grid_auto_columns": null,
      "grid_auto_flow": null,
      "grid_auto_rows": null,
      "grid_column": null,
      "grid_gap": null,
      "grid_row": null,
      "grid_template_areas": null,
      "grid_template_columns": null,
      "grid_template_rows": null,
      "height": null,
      "justify_content": null,
      "justify_items": null,
      "left": null,
      "margin": null,
      "max_height": null,
      "max_width": null,
      "min_height": null,
      "min_width": null,
      "object_fit": null,
      "object_position": null,
      "order": null,
      "overflow": null,
      "overflow_x": null,
      "overflow_y": null,
      "padding": null,
      "right": null,
      "top": null,
      "visibility": null,
      "width": null
     }
    },
    "553185bdd67e4aa397331ce5942236b1": {
     "model_module": "@jupyter-widgets/controls",
     "model_name": "DescriptionStyleModel",
     "model_module_version": "1.5.0",
     "state": {
      "_model_module": "@jupyter-widgets/controls",
      "_model_module_version": "1.5.0",
      "_model_name": "DescriptionStyleModel",
      "_view_count": null,
      "_view_module": "@jupyter-widgets/base",
      "_view_module_version": "1.2.0",
      "_view_name": "StyleView",
      "description_width": ""
     }
    },
    "d4e3ab7a7d7a451992855362b1367b1b": {
     "model_module": "@jupyter-widgets/base",
     "model_name": "LayoutModel",
     "model_module_version": "1.2.0",
     "state": {
      "_model_module": "@jupyter-widgets/base",
      "_model_module_version": "1.2.0",
      "_model_name": "LayoutModel",
      "_view_count": null,
      "_view_module": "@jupyter-widgets/base",
      "_view_module_version": "1.2.0",
      "_view_name": "LayoutView",
      "align_content": null,
      "align_items": null,
      "align_self": null,
      "border": null,
      "bottom": null,
      "display": null,
      "flex": null,
      "flex_flow": null,
      "grid_area": null,
      "grid_auto_columns": null,
      "grid_auto_flow": null,
      "grid_auto_rows": null,
      "grid_column": null,
      "grid_gap": null,
      "grid_row": null,
      "grid_template_areas": null,
      "grid_template_columns": null,
      "grid_template_rows": null,
      "height": null,
      "justify_content": null,
      "justify_items": null,
      "left": null,
      "margin": null,
      "max_height": null,
      "max_width": null,
      "min_height": null,
      "min_width": null,
      "object_fit": null,
      "object_position": null,
      "order": null,
      "overflow": null,
      "overflow_x": null,
      "overflow_y": null,
      "padding": null,
      "right": null,
      "top": null,
      "visibility": null,
      "width": null
     }
    },
    "606fd1ccdee74ac381e659eaf355faa7": {
     "model_module": "@jupyter-widgets/controls",
     "model_name": "ProgressStyleModel",
     "model_module_version": "1.5.0",
     "state": {
      "_model_module": "@jupyter-widgets/controls",
      "_model_module_version": "1.5.0",
      "_model_name": "ProgressStyleModel",
      "_view_count": null,
      "_view_module": "@jupyter-widgets/base",
      "_view_module_version": "1.2.0",
      "_view_name": "StyleView",
      "bar_color": null,
      "description_width": ""
     }
    },
    "85a310e03b214f18b07ae70f804eda8d": {
     "model_module": "@jupyter-widgets/base",
     "model_name": "LayoutModel",
     "model_module_version": "1.2.0",
     "state": {
      "_model_module": "@jupyter-widgets/base",
      "_model_module_version": "1.2.0",
      "_model_name": "LayoutModel",
      "_view_count": null,
      "_view_module": "@jupyter-widgets/base",
      "_view_module_version": "1.2.0",
      "_view_name": "LayoutView",
      "align_content": null,
      "align_items": null,
      "align_self": null,
      "border": null,
      "bottom": null,
      "display": null,
      "flex": null,
      "flex_flow": null,
      "grid_area": null,
      "grid_auto_columns": null,
      "grid_auto_flow": null,
      "grid_auto_rows": null,
      "grid_column": null,
      "grid_gap": null,
      "grid_row": null,
      "grid_template_areas": null,
      "grid_template_columns": null,
      "grid_template_rows": null,
      "height": null,
      "justify_content": null,
      "justify_items": null,
      "left": null,
      "margin": null,
      "max_height": null,
      "max_width": null,
      "min_height": null,
      "min_width": null,
      "object_fit": null,
      "object_position": null,
      "order": null,
      "overflow": null,
      "overflow_x": null,
      "overflow_y": null,
      "padding": null,
      "right": null,
      "top": null,
      "visibility": null,
      "width": null
     }
    },
    "acf0a4441f1c4fccb29f0c5b40c6a494": {
     "model_module": "@jupyter-widgets/controls",
     "model_name": "DescriptionStyleModel",
     "model_module_version": "1.5.0",
     "state": {
      "_model_module": "@jupyter-widgets/controls",
      "_model_module_version": "1.5.0",
      "_model_name": "DescriptionStyleModel",
      "_view_count": null,
      "_view_module": "@jupyter-widgets/base",
      "_view_module_version": "1.2.0",
      "_view_name": "StyleView",
      "description_width": ""
     }
    },
    "013793b9e5fa48479257445c3c1ad34c": {
     "model_module": "@jupyter-widgets/controls",
     "model_name": "HBoxModel",
     "model_module_version": "1.5.0",
     "state": {
      "_dom_classes": [],
      "_model_module": "@jupyter-widgets/controls",
      "_model_module_version": "1.5.0",
      "_model_name": "HBoxModel",
      "_view_count": null,
      "_view_module": "@jupyter-widgets/controls",
      "_view_module_version": "1.5.0",
      "_view_name": "HBoxView",
      "box_style": "",
      "children": [
       "IPY_MODEL_d44da34ce3d948a795ebf8717fd8fa5d",
       "IPY_MODEL_23e6c38d2086429f8865c8310dec7dda",
       "IPY_MODEL_7e15139028a2404bb48df86176d685a9"
      ],
      "layout": "IPY_MODEL_25d668c9593f42179d493acccddf9dda"
     }
    },
    "d44da34ce3d948a795ebf8717fd8fa5d": {
     "model_module": "@jupyter-widgets/controls",
     "model_name": "HTMLModel",
     "model_module_version": "1.5.0",
     "state": {
      "_dom_classes": [],
      "_model_module": "@jupyter-widgets/controls",
      "_model_module_version": "1.5.0",
      "_model_name": "HTMLModel",
      "_view_count": null,
      "_view_module": "@jupyter-widgets/controls",
      "_view_module_version": "1.5.0",
      "_view_name": "HTMLView",
      "description": "",
      "description_tooltip": null,
      "layout": "IPY_MODEL_4d243bafe69c45859de129c41f53b369",
      "placeholder": "​",
      "style": "IPY_MODEL_e490b074003e410395342693d65b0cff",
      "value": "Downloading (…)lve/main/config.json: 100%"
     }
    },
    "23e6c38d2086429f8865c8310dec7dda": {
     "model_module": "@jupyter-widgets/controls",
     "model_name": "FloatProgressModel",
     "model_module_version": "1.5.0",
     "state": {
      "_dom_classes": [],
      "_model_module": "@jupyter-widgets/controls",
      "_model_module_version": "1.5.0",
      "_model_name": "FloatProgressModel",
      "_view_count": null,
      "_view_module": "@jupyter-widgets/controls",
      "_view_module_version": "1.5.0",
      "_view_name": "ProgressView",
      "bar_style": "success",
      "description": "",
      "description_tooltip": null,
      "layout": "IPY_MODEL_9cc91ee19561410480703cb8350c5073",
      "max": 642,
      "min": 0,
      "orientation": "horizontal",
      "style": "IPY_MODEL_1430ad8a8bd94fef97368c844f2fde8e",
      "value": 642
     }
    },
    "7e15139028a2404bb48df86176d685a9": {
     "model_module": "@jupyter-widgets/controls",
     "model_name": "HTMLModel",
     "model_module_version": "1.5.0",
     "state": {
      "_dom_classes": [],
      "_model_module": "@jupyter-widgets/controls",
      "_model_module_version": "1.5.0",
      "_model_name": "HTMLModel",
      "_view_count": null,
      "_view_module": "@jupyter-widgets/controls",
      "_view_module_version": "1.5.0",
      "_view_name": "HTMLView",
      "description": "",
      "description_tooltip": null,
      "layout": "IPY_MODEL_40b7e5daec494f42a952cce0dc99c9df",
      "placeholder": "​",
      "style": "IPY_MODEL_aaa916ec0290466da6e337f12c0d2725",
      "value": " 642/642 [00:00&lt;00:00, 9.32kB/s]"
     }
    },
    "25d668c9593f42179d493acccddf9dda": {
     "model_module": "@jupyter-widgets/base",
     "model_name": "LayoutModel",
     "model_module_version": "1.2.0",
     "state": {
      "_model_module": "@jupyter-widgets/base",
      "_model_module_version": "1.2.0",
      "_model_name": "LayoutModel",
      "_view_count": null,
      "_view_module": "@jupyter-widgets/base",
      "_view_module_version": "1.2.0",
      "_view_name": "LayoutView",
      "align_content": null,
      "align_items": null,
      "align_self": null,
      "border": null,
      "bottom": null,
      "display": null,
      "flex": null,
      "flex_flow": null,
      "grid_area": null,
      "grid_auto_columns": null,
      "grid_auto_flow": null,
      "grid_auto_rows": null,
      "grid_column": null,
      "grid_gap": null,
      "grid_row": null,
      "grid_template_areas": null,
      "grid_template_columns": null,
      "grid_template_rows": null,
      "height": null,
      "justify_content": null,
      "justify_items": null,
      "left": null,
      "margin": null,
      "max_height": null,
      "max_width": null,
      "min_height": null,
      "min_width": null,
      "object_fit": null,
      "object_position": null,
      "order": null,
      "overflow": null,
      "overflow_x": null,
      "overflow_y": null,
      "padding": null,
      "right": null,
      "top": null,
      "visibility": null,
      "width": null
     }
    },
    "4d243bafe69c45859de129c41f53b369": {
     "model_module": "@jupyter-widgets/base",
     "model_name": "LayoutModel",
     "model_module_version": "1.2.0",
     "state": {
      "_model_module": "@jupyter-widgets/base",
      "_model_module_version": "1.2.0",
      "_model_name": "LayoutModel",
      "_view_count": null,
      "_view_module": "@jupyter-widgets/base",
      "_view_module_version": "1.2.0",
      "_view_name": "LayoutView",
      "align_content": null,
      "align_items": null,
      "align_self": null,
      "border": null,
      "bottom": null,
      "display": null,
      "flex": null,
      "flex_flow": null,
      "grid_area": null,
      "grid_auto_columns": null,
      "grid_auto_flow": null,
      "grid_auto_rows": null,
      "grid_column": null,
      "grid_gap": null,
      "grid_row": null,
      "grid_template_areas": null,
      "grid_template_columns": null,
      "grid_template_rows": null,
      "height": null,
      "justify_content": null,
      "justify_items": null,
      "left": null,
      "margin": null,
      "max_height": null,
      "max_width": null,
      "min_height": null,
      "min_width": null,
      "object_fit": null,
      "object_position": null,
      "order": null,
      "overflow": null,
      "overflow_x": null,
      "overflow_y": null,
      "padding": null,
      "right": null,
      "top": null,
      "visibility": null,
      "width": null
     }
    },
    "e490b074003e410395342693d65b0cff": {
     "model_module": "@jupyter-widgets/controls",
     "model_name": "DescriptionStyleModel",
     "model_module_version": "1.5.0",
     "state": {
      "_model_module": "@jupyter-widgets/controls",
      "_model_module_version": "1.5.0",
      "_model_name": "DescriptionStyleModel",
      "_view_count": null,
      "_view_module": "@jupyter-widgets/base",
      "_view_module_version": "1.2.0",
      "_view_name": "StyleView",
      "description_width": ""
     }
    },
    "9cc91ee19561410480703cb8350c5073": {
     "model_module": "@jupyter-widgets/base",
     "model_name": "LayoutModel",
     "model_module_version": "1.2.0",
     "state": {
      "_model_module": "@jupyter-widgets/base",
      "_model_module_version": "1.2.0",
      "_model_name": "LayoutModel",
      "_view_count": null,
      "_view_module": "@jupyter-widgets/base",
      "_view_module_version": "1.2.0",
      "_view_name": "LayoutView",
      "align_content": null,
      "align_items": null,
      "align_self": null,
      "border": null,
      "bottom": null,
      "display": null,
      "flex": null,
      "flex_flow": null,
      "grid_area": null,
      "grid_auto_columns": null,
      "grid_auto_flow": null,
      "grid_auto_rows": null,
      "grid_column": null,
      "grid_gap": null,
      "grid_row": null,
      "grid_template_areas": null,
      "grid_template_columns": null,
      "grid_template_rows": null,
      "height": null,
      "justify_content": null,
      "justify_items": null,
      "left": null,
      "margin": null,
      "max_height": null,
      "max_width": null,
      "min_height": null,
      "min_width": null,
      "object_fit": null,
      "object_position": null,
      "order": null,
      "overflow": null,
      "overflow_x": null,
      "overflow_y": null,
      "padding": null,
      "right": null,
      "top": null,
      "visibility": null,
      "width": null
     }
    },
    "1430ad8a8bd94fef97368c844f2fde8e": {
     "model_module": "@jupyter-widgets/controls",
     "model_name": "ProgressStyleModel",
     "model_module_version": "1.5.0",
     "state": {
      "_model_module": "@jupyter-widgets/controls",
      "_model_module_version": "1.5.0",
      "_model_name": "ProgressStyleModel",
      "_view_count": null,
      "_view_module": "@jupyter-widgets/base",
      "_view_module_version": "1.2.0",
      "_view_name": "StyleView",
      "bar_color": null,
      "description_width": ""
     }
    },
    "40b7e5daec494f42a952cce0dc99c9df": {
     "model_module": "@jupyter-widgets/base",
     "model_name": "LayoutModel",
     "model_module_version": "1.2.0",
     "state": {
      "_model_module": "@jupyter-widgets/base",
      "_model_module_version": "1.2.0",
      "_model_name": "LayoutModel",
      "_view_count": null,
      "_view_module": "@jupyter-widgets/base",
      "_view_module_version": "1.2.0",
      "_view_name": "LayoutView",
      "align_content": null,
      "align_items": null,
      "align_self": null,
      "border": null,
      "bottom": null,
      "display": null,
      "flex": null,
      "flex_flow": null,
      "grid_area": null,
      "grid_auto_columns": null,
      "grid_auto_flow": null,
      "grid_auto_rows": null,
      "grid_column": null,
      "grid_gap": null,
      "grid_row": null,
      "grid_template_areas": null,
      "grid_template_columns": null,
      "grid_template_rows": null,
      "height": null,
      "justify_content": null,
      "justify_items": null,
      "left": null,
      "margin": null,
      "max_height": null,
      "max_width": null,
      "min_height": null,
      "min_width": null,
      "object_fit": null,
      "object_position": null,
      "order": null,
      "overflow": null,
      "overflow_x": null,
      "overflow_y": null,
      "padding": null,
      "right": null,
      "top": null,
      "visibility": null,
      "width": null
     }
    },
    "aaa916ec0290466da6e337f12c0d2725": {
     "model_module": "@jupyter-widgets/controls",
     "model_name": "DescriptionStyleModel",
     "model_module_version": "1.5.0",
     "state": {
      "_model_module": "@jupyter-widgets/controls",
      "_model_module_version": "1.5.0",
      "_model_name": "DescriptionStyleModel",
      "_view_count": null,
      "_view_module": "@jupyter-widgets/base",
      "_view_module_version": "1.2.0",
      "_view_name": "StyleView",
      "description_width": ""
     }
    },
    "f203f9292799461ba9175859520bf6a7": {
     "model_module": "@jupyter-widgets/controls",
     "model_name": "HBoxModel",
     "model_module_version": "1.5.0",
     "state": {
      "_dom_classes": [],
      "_model_module": "@jupyter-widgets/controls",
      "_model_module_version": "1.5.0",
      "_model_name": "HBoxModel",
      "_view_count": null,
      "_view_module": "@jupyter-widgets/controls",
      "_view_module_version": "1.5.0",
      "_view_name": "HBoxView",
      "box_style": "",
      "children": [
       "IPY_MODEL_324597fb537f45029a85fe5531213918",
       "IPY_MODEL_91379685110a451cae3396ea4346efbc",
       "IPY_MODEL_1304dbd0a9724a068d10aa218e528fc4"
      ],
      "layout": "IPY_MODEL_3cdf7639462c4294b74c43100b76c80e"
     }
    },
    "324597fb537f45029a85fe5531213918": {
     "model_module": "@jupyter-widgets/controls",
     "model_name": "HTMLModel",
     "model_module_version": "1.5.0",
     "state": {
      "_dom_classes": [],
      "_model_module": "@jupyter-widgets/controls",
      "_model_module_version": "1.5.0",
      "_model_name": "HTMLModel",
      "_view_count": null,
      "_view_module": "@jupyter-widgets/controls",
      "_view_module_version": "1.5.0",
      "_view_name": "HTMLView",
      "description": "",
      "description_tooltip": null,
      "layout": "IPY_MODEL_9d64b2a66b6a4f31859fabf0ae92802e",
      "placeholder": "​",
      "style": "IPY_MODEL_93cd6e2fc16f45c4b920f2de5a4d9c8c",
      "value": "Downloading pytorch_model.bin: 100%"
     }
    },
    "91379685110a451cae3396ea4346efbc": {
     "model_module": "@jupyter-widgets/controls",
     "model_name": "FloatProgressModel",
     "model_module_version": "1.5.0",
     "state": {
      "_dom_classes": [],
      "_model_module": "@jupyter-widgets/controls",
      "_model_module_version": "1.5.0",
      "_model_name": "FloatProgressModel",
      "_view_count": null,
      "_view_module": "@jupyter-widgets/controls",
      "_view_module_version": "1.5.0",
      "_view_name": "ProgressView",
      "bar_style": "success",
      "description": "",
      "description_tooltip": null,
      "layout": "IPY_MODEL_bc7ca79573cc4b6183b60bd27ccc9165",
      "max": 711456784,
      "min": 0,
      "orientation": "horizontal",
      "style": "IPY_MODEL_aaf1379baffe422a99cfe5d1b51a38f8",
      "value": 711456784
     }
    },
    "1304dbd0a9724a068d10aa218e528fc4": {
     "model_module": "@jupyter-widgets/controls",
     "model_name": "HTMLModel",
     "model_module_version": "1.5.0",
     "state": {
      "_dom_classes": [],
      "_model_module": "@jupyter-widgets/controls",
      "_model_module_version": "1.5.0",
      "_model_name": "HTMLModel",
      "_view_count": null,
      "_view_module": "@jupyter-widgets/controls",
      "_view_module_version": "1.5.0",
      "_view_name": "HTMLView",
      "description": "",
      "description_tooltip": null,
      "layout": "IPY_MODEL_e4e7dbf8c18342c6ae7ce39c0662826d",
      "placeholder": "​",
      "style": "IPY_MODEL_eeb21453171f436d804b8daa42d100ec",
      "value": " 711M/711M [00:18&lt;00:00, 35.6MB/s]"
     }
    },
    "3cdf7639462c4294b74c43100b76c80e": {
     "model_module": "@jupyter-widgets/base",
     "model_name": "LayoutModel",
     "model_module_version": "1.2.0",
     "state": {
      "_model_module": "@jupyter-widgets/base",
      "_model_module_version": "1.2.0",
      "_model_name": "LayoutModel",
      "_view_count": null,
      "_view_module": "@jupyter-widgets/base",
      "_view_module_version": "1.2.0",
      "_view_name": "LayoutView",
      "align_content": null,
      "align_items": null,
      "align_self": null,
      "border": null,
      "bottom": null,
      "display": null,
      "flex": null,
      "flex_flow": null,
      "grid_area": null,
      "grid_auto_columns": null,
      "grid_auto_flow": null,
      "grid_auto_rows": null,
      "grid_column": null,
      "grid_gap": null,
      "grid_row": null,
      "grid_template_areas": null,
      "grid_template_columns": null,
      "grid_template_rows": null,
      "height": null,
      "justify_content": null,
      "justify_items": null,
      "left": null,
      "margin": null,
      "max_height": null,
      "max_width": null,
      "min_height": null,
      "min_width": null,
      "object_fit": null,
      "object_position": null,
      "order": null,
      "overflow": null,
      "overflow_x": null,
      "overflow_y": null,
      "padding": null,
      "right": null,
      "top": null,
      "visibility": null,
      "width": null
     }
    },
    "9d64b2a66b6a4f31859fabf0ae92802e": {
     "model_module": "@jupyter-widgets/base",
     "model_name": "LayoutModel",
     "model_module_version": "1.2.0",
     "state": {
      "_model_module": "@jupyter-widgets/base",
      "_model_module_version": "1.2.0",
      "_model_name": "LayoutModel",
      "_view_count": null,
      "_view_module": "@jupyter-widgets/base",
      "_view_module_version": "1.2.0",
      "_view_name": "LayoutView",
      "align_content": null,
      "align_items": null,
      "align_self": null,
      "border": null,
      "bottom": null,
      "display": null,
      "flex": null,
      "flex_flow": null,
      "grid_area": null,
      "grid_auto_columns": null,
      "grid_auto_flow": null,
      "grid_auto_rows": null,
      "grid_column": null,
      "grid_gap": null,
      "grid_row": null,
      "grid_template_areas": null,
      "grid_template_columns": null,
      "grid_template_rows": null,
      "height": null,
      "justify_content": null,
      "justify_items": null,
      "left": null,
      "margin": null,
      "max_height": null,
      "max_width": null,
      "min_height": null,
      "min_width": null,
      "object_fit": null,
      "object_position": null,
      "order": null,
      "overflow": null,
      "overflow_x": null,
      "overflow_y": null,
      "padding": null,
      "right": null,
      "top": null,
      "visibility": null,
      "width": null
     }
    },
    "93cd6e2fc16f45c4b920f2de5a4d9c8c": {
     "model_module": "@jupyter-widgets/controls",
     "model_name": "DescriptionStyleModel",
     "model_module_version": "1.5.0",
     "state": {
      "_model_module": "@jupyter-widgets/controls",
      "_model_module_version": "1.5.0",
      "_model_name": "DescriptionStyleModel",
      "_view_count": null,
      "_view_module": "@jupyter-widgets/base",
      "_view_module_version": "1.2.0",
      "_view_name": "StyleView",
      "description_width": ""
     }
    },
    "bc7ca79573cc4b6183b60bd27ccc9165": {
     "model_module": "@jupyter-widgets/base",
     "model_name": "LayoutModel",
     "model_module_version": "1.2.0",
     "state": {
      "_model_module": "@jupyter-widgets/base",
      "_model_module_version": "1.2.0",
      "_model_name": "LayoutModel",
      "_view_count": null,
      "_view_module": "@jupyter-widgets/base",
      "_view_module_version": "1.2.0",
      "_view_name": "LayoutView",
      "align_content": null,
      "align_items": null,
      "align_self": null,
      "border": null,
      "bottom": null,
      "display": null,
      "flex": null,
      "flex_flow": null,
      "grid_area": null,
      "grid_auto_columns": null,
      "grid_auto_flow": null,
      "grid_auto_rows": null,
      "grid_column": null,
      "grid_gap": null,
      "grid_row": null,
      "grid_template_areas": null,
      "grid_template_columns": null,
      "grid_template_rows": null,
      "height": null,
      "justify_content": null,
      "justify_items": null,
      "left": null,
      "margin": null,
      "max_height": null,
      "max_width": null,
      "min_height": null,
      "min_width": null,
      "object_fit": null,
      "object_position": null,
      "order": null,
      "overflow": null,
      "overflow_x": null,
      "overflow_y": null,
      "padding": null,
      "right": null,
      "top": null,
      "visibility": null,
      "width": null
     }
    },
    "aaf1379baffe422a99cfe5d1b51a38f8": {
     "model_module": "@jupyter-widgets/controls",
     "model_name": "ProgressStyleModel",
     "model_module_version": "1.5.0",
     "state": {
      "_model_module": "@jupyter-widgets/controls",
      "_model_module_version": "1.5.0",
      "_model_name": "ProgressStyleModel",
      "_view_count": null,
      "_view_module": "@jupyter-widgets/base",
      "_view_module_version": "1.2.0",
      "_view_name": "StyleView",
      "bar_color": null,
      "description_width": ""
     }
    },
    "e4e7dbf8c18342c6ae7ce39c0662826d": {
     "model_module": "@jupyter-widgets/base",
     "model_name": "LayoutModel",
     "model_module_version": "1.2.0",
     "state": {
      "_model_module": "@jupyter-widgets/base",
      "_model_module_version": "1.2.0",
      "_model_name": "LayoutModel",
      "_view_count": null,
      "_view_module": "@jupyter-widgets/base",
      "_view_module_version": "1.2.0",
      "_view_name": "LayoutView",
      "align_content": null,
      "align_items": null,
      "align_self": null,
      "border": null,
      "bottom": null,
      "display": null,
      "flex": null,
      "flex_flow": null,
      "grid_area": null,
      "grid_auto_columns": null,
      "grid_auto_flow": null,
      "grid_auto_rows": null,
      "grid_column": null,
      "grid_gap": null,
      "grid_row": null,
      "grid_template_areas": null,
      "grid_template_columns": null,
      "grid_template_rows": null,
      "height": null,
      "justify_content": null,
      "justify_items": null,
      "left": null,
      "margin": null,
      "max_height": null,
      "max_width": null,
      "min_height": null,
      "min_width": null,
      "object_fit": null,
      "object_position": null,
      "order": null,
      "overflow": null,
      "overflow_x": null,
      "overflow_y": null,
      "padding": null,
      "right": null,
      "top": null,
      "visibility": null,
      "width": null
     }
    },
    "eeb21453171f436d804b8daa42d100ec": {
     "model_module": "@jupyter-widgets/controls",
     "model_name": "DescriptionStyleModel",
     "model_module_version": "1.5.0",
     "state": {
      "_model_module": "@jupyter-widgets/controls",
      "_model_module_version": "1.5.0",
      "_model_name": "DescriptionStyleModel",
      "_view_count": null,
      "_view_module": "@jupyter-widgets/base",
      "_view_module_version": "1.2.0",
      "_view_name": "StyleView",
      "description_width": ""
     }
    }
   }
  }
 },
 "nbformat": 4,
 "nbformat_minor": 0
}